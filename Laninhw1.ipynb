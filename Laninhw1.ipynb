{
  "cells": [
    {
      "cell_type": "markdown",
      "metadata": {
        "id": "O3DiRDBuMck0"
      },
      "source": [
        "# HSE 2022: Mathematical Methods for Data Analysis\n",
        "\n",
        "## Homework 1"
      ]
    },
    {
      "cell_type": "markdown",
      "metadata": {
        "id": "uDPdIkzEMck1"
      },
      "source": [
        "### Attention!\n",
        "* For tasks where <ins>text answer</ins> is required **Russian language** is **allowed**.\n",
        "* If a task asks you to describe something (make coclusions) then **text answer** is **mandatory** and **is** part of the task\n",
        "* **Do not** upload the dataset (titanic.csv) to the grading system (we already have it)\n",
        "* We **only** accept **ipynb** notebooks. If you use Google Colab then you'll have to download the notebook before passing the homework\n",
        "* **Do not** use python loops instead of NumPy vector operations over NumPy vectors - it significantly decreases performance (see why https://blog.paperspace.com/numpy-optimization-vectorization-and-broadcasting/), will be punished with -0.25 for **every** task. \n",
        "Loops are only allowed in part 1 (Tasks 1 - 4). \n",
        "* Some tasks contain tests. They only test you solution on a simple example, thus, passing the test does **not** guarantee you the full grade for the task. "
      ]
    },
    {
      "cell_type": "code",
      "execution_count": 338,
      "metadata": {
        "id": "Ovw7hpcDMck3"
      },
      "outputs": [],
      "source": [
        "%matplotlib inline\n",
        "import numpy as np\n",
        "import pandas as pd\n",
        "import matplotlib.pyplot as plt\n",
        "import seaborn as sns"
      ]
    },
    {
      "cell_type": "markdown",
      "metadata": {
        "id": "RoM8wDA_Mck4"
      },
      "source": [
        "# 1. Python (2 points) "
      ]
    },
    {
      "cell_type": "markdown",
      "metadata": {
        "id": "BMbnQU3oMck4"
      },
      "source": [
        "**Task 1** (0.5 points)<br/> \n",
        "Enter nonzero numbers `a`,  `r` and `N`. Find the first `N` members of geometric progression with the first member `a` and factor `r`, without using formula for the product."
      ]
    },
    {
      "cell_type": "code",
      "execution_count": 339,
      "metadata": {
        "id": "X84jwhiFMck5",
        "colab": {
          "base_uri": "https://localhost:8080/"
        },
        "outputId": "371bf373-f1f3-425b-aa58-81173a98eaf1"
      },
      "outputs": [
        {
          "output_type": "stream",
          "name": "stdout",
          "text": [
            "[ 2.  6. 18.]\n"
          ]
        }
      ],
      "source": [
        "def find_product(a,r,N):\n",
        "    progression = np.empty(N)\n",
        "    progression[:] = r\n",
        "    progression[0] = a\n",
        "    return np.cumprod(progression) \n",
        "\n",
        "a = 2\n",
        "r = 3\n",
        "N = 3\n",
        "print(find_product(a,r,N))"
      ]
    },
    {
      "cell_type": "markdown",
      "metadata": {
        "id": "HHJNl2heMck5"
      },
      "source": [
        "**Task 2** (0.5 points) <br/> \n",
        "Enter an integer number `N`. Check if it is a palindrome number. It means that it can be read equally from left to right and from right to back. "
      ]
    },
    {
      "cell_type": "code",
      "execution_count": 340,
      "metadata": {
        "id": "TOzX2BoKMck6",
        "colab": {
          "base_uri": "https://localhost:8080/"
        },
        "outputId": "c98b2389-c4da-4d16-9562-eb5378d03dc1"
      },
      "outputs": [
        {
          "output_type": "stream",
          "name": "stdout",
          "text": [
            "3 True\n",
            "81 False\n",
            "111 True\n",
            "113 False\n",
            "810 False\n",
            "2022 False\n",
            "4774 True\n",
            "51315 True\n",
            "611816 False\n"
          ]
        }
      ],
      "source": [
        "def check_palindrome(N):\n",
        "    string_number = str(N)\n",
        "    return string_number == string_number[::-1]\n",
        "\n",
        "for N in [3, 81, 111, 113, 810, 2022, 4774, 51315, 611816]:\n",
        "    print(N, check_palindrome(N))"
      ]
    },
    {
      "cell_type": "markdown",
      "metadata": {
        "id": "9LgsTfVBMck6"
      },
      "source": [
        "**Task 3** (0.5 points) <br/> \n",
        "Find the first `N` palindrome numbers starting from 1000 (you may use the function from the precious task)."
      ]
    },
    {
      "cell_type": "code",
      "execution_count": 341,
      "metadata": {
        "id": "hRlYn07cMck8",
        "colab": {
          "base_uri": "https://localhost:8080/"
        },
        "outputId": "8651a9aa-231c-43a9-d56a-222cdd5437c7"
      },
      "outputs": [
        {
          "output_type": "stream",
          "name": "stdout",
          "text": [
            "[1001 1111 1221 1331 1441]\n",
            "[1001 1111 1221 1331 1441 1551 1661 1771 1881 1991]\n",
            "[1001 1111 1221 1331 1441 1551 1661 1771 1881 1991 2002 2112 2222 2332\n",
            " 2442 2552 2662 2772 2882 2992]\n"
          ]
        }
      ],
      "source": [
        "def find_palindromes(N):\n",
        "    counter = 0\n",
        "    palindromes = np.empty(N, dtype=int)\n",
        "    iterative_value = 1000\n",
        "    while(counter < N):\n",
        "      if check_palindrome(iterative_value):\n",
        "        palindromes[counter] = iterative_value\n",
        "        counter += 1\n",
        "      iterative_value += 1\n",
        "    return palindromes\n",
        "\n",
        "print(find_palindromes(5))\n",
        "print(find_palindromes(10))\n",
        "print(find_palindromes(20))"
      ]
    },
    {
      "cell_type": "markdown",
      "metadata": {
        "id": "wiMQ6pFuMck8"
      },
      "source": [
        "**Task 4** (0.5 points) <br/> \n",
        "There are numbers: `a`, `b`, `c`. Without using functions `min`, `max` and other functions, find the minimum number."
      ]
    },
    {
      "cell_type": "code",
      "execution_count": 342,
      "metadata": {
        "id": "05AlCJHgMck9",
        "colab": {
          "base_uri": "https://localhost:8080/"
        },
        "outputId": "09fb17d1-aa8e-498b-81a8-43c929ee504d"
      },
      "outputs": [
        {
          "output_type": "stream",
          "name": "stdout",
          "text": [
            "55 17 -88 \tMinimum: -88\n",
            "91 44 88 \tMinimum: 44\n",
            "-25 93 17 \tMinimum: -25\n",
            "-78 79 -14 \tMinimum: -78\n",
            "-100 -98 67 \tMinimum: -100\n",
            "73 -20 24 \tMinimum: -20\n",
            "42 -23 -14 \tMinimum: -23\n",
            "-67 -84 -40 \tMinimum: -84\n",
            "-87 22 -40 \tMinimum: -87\n",
            "-99 -66 -89 \tMinimum: -99\n"
          ]
        }
      ],
      "source": [
        "from random import randint\n",
        "def find_min(a, b, c):\n",
        "    min_ = 0\n",
        "    if a <= b and a <= c:\n",
        "      min_ = a\n",
        "    elif b <= a and b <= c:\n",
        "      min_ = b\n",
        "    elif c <= a and c <= b:\n",
        "      min_ = c\n",
        "    return min_\n",
        "\n",
        "for i in range(10):\n",
        "    \n",
        "    a = randint(-100, 100)\n",
        "    b = randint(-100, 100)\n",
        "    c = randint(-100, 100)\n",
        "    \n",
        "    print(a, b, c, '\\tMinimum:', find_min(a, b, c))"
      ]
    },
    {
      "cell_type": "markdown",
      "metadata": {
        "id": "LyVIujQcMck9"
      },
      "source": [
        "# 2. Numpy (4 points)"
      ]
    },
    {
      "cell_type": "markdown",
      "metadata": {
        "id": "V2h1aCBzMck-"
      },
      "source": [
        "**Task 1** (0.5 points) <br/>\n",
        "Create a random array (`np.random.rand()`) with length of 17 and with sum of its elements equals to 6."
      ]
    },
    {
      "cell_type": "code",
      "execution_count": 343,
      "metadata": {
        "id": "Q7zp8guDMck-",
        "colab": {
          "base_uri": "https://localhost:8080/"
        },
        "outputId": "ad625dc3-e4da-4cf9-dc35-b0acf792a3b1"
      },
      "outputs": [
        {
          "output_type": "stream",
          "name": "stdout",
          "text": [
            "Length: 17\n",
            "Sum of elements: 6.0\n"
          ]
        }
      ],
      "source": [
        "my_array = np.random.rand(17)\n",
        "my_array[16] = 6 - np.sum(my_array[:16])\n",
        "\n",
        "print(f'Length: {len(my_array)}')\n",
        "print(f'Sum of elements: {np.sum(my_array)}')"
      ]
    },
    {
      "cell_type": "markdown",
      "metadata": {
        "id": "pNN2qKjJMck-"
      },
      "source": [
        "**Task 2** (0.5 points) <br/>\n",
        "Create two random arrays $a$ and $b$ with the same length. \n",
        "\n",
        "Calculate the following distances between the arrays **without using special funcrion. You may only use basic numpy operations (`np.linalg.*` and other high-level ones are prohibited).**:\n",
        "\n",
        "* Manhattan Distance\n",
        "$$ d(a, b) = \\sum_i |a_i - b_i| $$\n",
        "* Euclidean Distance\n",
        "$$ d(a, b) = \\sqrt{\\sum_i (a_i - b_i)^2} $$\n",
        "* Chebyshev Distance\n",
        "$$ d(a, b) = \\underset{i}{max} |a_i - b_i| $$\n",
        "* Cosine Distance\n",
        "$$ d(a, b) = 1 - \\frac{a^\\top b}{||a||_2\\cdot||b||_2} $$\n"
      ]
    },
    {
      "cell_type": "code",
      "execution_count": 344,
      "metadata": {
        "id": "YMHlzPbfMck_"
      },
      "outputs": [],
      "source": [
        "distance = 0\n",
        "\n",
        "def calculate_manhattan(a, b):    \n",
        "    return np.sum(np.abs(a-b))\n",
        "\n",
        "def calculate_euclidean(a, b):    \n",
        "    return np.sqrt(np.sum(np.power(a-b, 2)))\n",
        "\n",
        "def calculate_chebyshev(a, b):    \n",
        "    return np.max(np.abs(a-b))\n",
        "\n",
        "def calculate_cosine(a, b):    \n",
        "    return 1 - (np.dot(np.transpose(a), b)/(np.sqrt(np.sum(np.power(a, 2)))*np.sqrt(np.sum(np.power(b, 2)))))"
      ]
    },
    {
      "cell_type": "code",
      "execution_count": 345,
      "metadata": {
        "id": "_isghvOMMck_",
        "colab": {
          "base_uri": "https://localhost:8080/"
        },
        "outputId": "703a4cd3-3317-427c-83f5-759a90e7bb5e"
      },
      "outputs": [
        {
          "output_type": "stream",
          "name": "stdout",
          "text": [
            "[0.63752332 0.70403936 0.89817906 0.95134221] [0.29851799 0.27654885 0.93431568 0.62926448]\n",
            "Manhattan distance: 1.124710188233108\n",
            "Euclidean distance: 0.6345964607129716\n",
            "Chebyshev distance: 0.42749050808532885\n",
            "Cosine distance: 0.05864433257604218\n"
          ]
        }
      ],
      "source": [
        "length = randint(1, 5)\n",
        "a = np.random.rand(length)\n",
        "b = np.random.rand(length)\n",
        "print(a, b)\n",
        "\n",
        "print(f'Manhattan distance: {calculate_manhattan(a, b)}')\n",
        "print(f'Euclidean distance: {calculate_euclidean(a, b)}')\n",
        "print(f'Chebyshev distance: {calculate_chebyshev(a, b)}')\n",
        "print(f'Cosine distance: {calculate_cosine(a, b)}')"
      ]
    },
    {
      "cell_type": "markdown",
      "metadata": {
        "id": "DKvVGDZqMclA"
      },
      "source": [
        "**Task 3** (0.5 points) <br/>\n",
        "Create a random array (`np.random.randint()`) with length of 76. Transform the array so that \n",
        "* Maximum element(s) value is -1\n",
        "* Minimum element(s) value is -4\n",
        "* Other values are in interval (-4; -1) with keeping the order"
      ]
    },
    {
      "cell_type": "code",
      "execution_count": 346,
      "metadata": {
        "id": "lECipcA1MclA"
      },
      "outputs": [],
      "source": [
        "def transform(array):\n",
        "    transformed_array = ((array-np.min(array))/(np.max(array)-np.min(array)))*3 - 4\n",
        "    return transformed_array"
      ]
    },
    {
      "cell_type": "code",
      "execution_count": 347,
      "metadata": {
        "id": "R85TBt87MclA",
        "colab": {
          "base_uri": "https://localhost:8080/"
        },
        "outputId": "daa41304-9191-4737-ad60-11ece40ee701"
      },
      "outputs": [
        {
          "output_type": "stream",
          "name": "stdout",
          "text": [
            "Min: -4.0\n",
            "Max: -1.0\n",
            "Array:\n",
            "[-2.25557461 -1.78730703 -1.28301887 -2.82675815 -2.52315609 -3.70668954\n",
            " -3.22813036 -1.62778731 -1.35506003 -2.64665523 -1.55574614 -4.\n",
            " -2.38936535 -1.45797599 -1.56603774 -2.43567753 -1.16466552 -1.77701544\n",
            " -1.6483705  -1.47855918 -3.92281304 -1.         -3.48027444 -1.37564322\n",
            " -1.02572899 -3.67066895 -2.32246998 -3.16638079 -2.45626072 -1.73070326\n",
            " -2.57461407 -3.85077187 -2.77015437 -2.90394511 -3.71183533 -2.12692967\n",
            " -4.         -2.26072041 -2.82675815 -2.24528302 -3.06861063 -1.23156089\n",
            " -3.23842196 -3.01200686 -2.38936535 -3.94854202 -1.95197256 -3.32590051\n",
            " -3.97427101 -2.02401372 -2.45111492 -3.75814751 -3.86620926 -3.41852487\n",
            " -3.90222985 -3.09948542 -1.06174957 -2.23499142 -3.27958834 -2.9245283\n",
            " -2.60548885 -1.27787307 -3.43396226 -3.81475129 -1.81818182 -3.87135506\n",
            " -1.30874786 -3.21269297 -2.43053173 -3.64493997 -2.43567753 -3.65523156\n",
            " -2.57975986 -1.82847341 -3.74785592 -3.55746141]\n"
          ]
        }
      ],
      "source": [
        "my_array = np.random.randint(-300, 300, size=76)\n",
        "\n",
        "my_array = transform(my_array)\n",
        "print(f'Min: {np.min(my_array)}')\n",
        "print(f'Max: {np.max(my_array)}')\n",
        "print('Array:')\n",
        "print(my_array)"
      ]
    },
    {
      "cell_type": "markdown",
      "metadata": {
        "id": "BJsheBzEMclA"
      },
      "source": [
        "**Task 4** (0.5 points) <br/>\n",
        "Create an array with shape of $8 \\times 5$ with integers from [-7, 43]. Print a column that contains the maximum element of the array."
      ]
    },
    {
      "cell_type": "code",
      "execution_count": 348,
      "metadata": {
        "id": "2I0ubNKOMclB",
        "colab": {
          "base_uri": "https://localhost:8080/"
        },
        "outputId": "0d9dc201-7ef6-42f9-ddad-869ac2f886ff"
      },
      "outputs": [
        {
          "output_type": "stream",
          "name": "stdout",
          "text": [
            "Shape:  (8, 5)\n",
            "Array:\n",
            "[[11  3 35 27 27]\n",
            " [16 31  4 29 16]\n",
            " [36  1 41 32 -6]\n",
            " [28 15 34 -2 35]\n",
            " [35 28  4 28 41]\n",
            " [26 -5  6 42 39]\n",
            " [-2 13 31  6 11]\n",
            " [ 7 38 11 32 -4]]\n",
            "Selected column: 3\n"
          ]
        }
      ],
      "source": [
        "my_array = np.random.randint(-7, 43, size=(8, 5))\n",
        "selected_column = np.argmax(my_array) % my_array.shape[1]\n",
        "\n",
        "print('Shape: ', my_array.shape)\n",
        "print('Array:')\n",
        "print(my_array)\n",
        "# From 0 to 4.\n",
        "print(f'Selected column: {selected_column}')"
      ]
    },
    {
      "cell_type": "markdown",
      "metadata": {
        "id": "dU4OixfmMclB"
      },
      "source": [
        "**Task 5** (0.5 points) <br/>\n",
        "\n",
        "Replace all missing values in the following array with median."
      ]
    },
    {
      "cell_type": "code",
      "execution_count": 349,
      "metadata": {
        "id": "IfZPbep0MclB",
        "colab": {
          "base_uri": "https://localhost:8080/"
        },
        "outputId": "9efa8fbc-9b51-46f3-8cbd-c5668ecd3aaa"
      },
      "outputs": [
        {
          "output_type": "stream",
          "name": "stdout",
          "text": [
            "Array:\n",
            "[       nan 0.54377787        nan        nan 0.1345903  0.17512339\n",
            "        nan 0.46098803 0.32742846 0.96789314]\n"
          ]
        }
      ],
      "source": [
        "arr = np.random.rand(10)\n",
        "idx = np.random.randint(0, 10, 4)\n",
        "arr[idx] = np.nan\n",
        "\n",
        "print('Array:')\n",
        "print(arr)"
      ]
    },
    {
      "cell_type": "code",
      "execution_count": 350,
      "metadata": {
        "id": "YxVD2vslMclB"
      },
      "outputs": [],
      "source": [
        "def replace_missing(arr):\n",
        "    med = np.median(arr[~np.isnan(arr)])\n",
        "    arr[np.isnan(arr)] = med\n",
        "    return arr"
      ]
    },
    {
      "cell_type": "code",
      "execution_count": 351,
      "metadata": {
        "id": "A8jKfKnrMclB",
        "colab": {
          "base_uri": "https://localhost:8080/"
        },
        "outputId": "43b98e34-e374-4e71-844c-7af891656720"
      },
      "outputs": [
        {
          "output_type": "stream",
          "name": "stdout",
          "text": [
            "Array with no missing values:\n",
            "[0.39420825 0.54377787 0.39420825 0.39420825 0.1345903  0.17512339\n",
            " 0.39420825 0.46098803 0.32742846 0.96789314]\n"
          ]
        }
      ],
      "source": [
        "arr = replace_missing(arr)\n",
        "print('Array with no missing values:')\n",
        "print(arr)"
      ]
    },
    {
      "cell_type": "markdown",
      "metadata": {
        "id": "FzZrUGvyMclB"
      },
      "source": [
        "**Task 6** (0.5 points) <br/>\n",
        "Create a function which takes an image ```X``` (3D array of the shape (n, m, 3)) as an input and returns the mean for all 3 channels (a vector of shape 3)."
      ]
    },
    {
      "cell_type": "code",
      "execution_count": 352,
      "metadata": {
        "id": "f8RhFyTuMclC"
      },
      "outputs": [],
      "source": [
        "def mean_channel(X):\n",
        "    new_x = np.mean(X, axis=(0, 1))\n",
        "    return new_x"
      ]
    },
    {
      "cell_type": "code",
      "execution_count": 353,
      "metadata": {
        "id": "k9iCqwA_MclC",
        "colab": {
          "base_uri": "https://localhost:8080/"
        },
        "outputId": "67963e08-ff56-46a1-c959-4452bea00daa"
      },
      "outputs": [
        {
          "output_type": "stream",
          "name": "stdout",
          "text": [
            "Vector of means: [-2.15789474 -2.34782609 -2.00686499]\n"
          ]
        }
      ],
      "source": [
        "n = 19\n",
        "m = 23\n",
        "X =  np.random.randint(-11, 8, size=(n, m, 3))\n",
        "print(f\"Vector of means: {mean_channel(X)}\")"
      ]
    },
    {
      "cell_type": "markdown",
      "metadata": {
        "id": "taGmOOFbMclC"
      },
      "source": [
        "### **Task 7** (1 points) <br/>\n",
        "Create a function which takes a 3D matrix ```X``` as an input and returns all its unique vertical (first axis) layers.\n",
        "\n",
        "Sample input:\n",
        "\n",
        "     ([[[1, 2, 3],\n",
        "        [1, 2, 3],\n",
        "        [1, 2, 3]],\n",
        "\n",
        "       [[4, 5, 6],\n",
        "        [4, 5, 7]\n",
        "        [4, 5, 6]],\n",
        "\n",
        "       [[7, 8, 9],\n",
        "        [7, 8, 9]\n",
        "        [7, 8, 9]]])\n",
        "        \n",
        "Sample output:\n",
        "\n",
        "     ([[[1, 2, 3],\n",
        "        [1, 2, 3]],\n",
        "\n",
        "       [[4, 5, 6],\n",
        "        [4, 5, 7]],\n",
        "\n",
        "       [[7, 8, 9],\n",
        "        [7, 8, 9]]])"
      ]
    },
    {
      "cell_type": "code",
      "execution_count": 354,
      "metadata": {
        "id": "cAC9l-gcMclC"
      },
      "outputs": [],
      "source": [
        "def get_unique_columns(X):\n",
        "    return np.unique(X, axis=1)"
      ]
    },
    {
      "cell_type": "code",
      "execution_count": 355,
      "metadata": {
        "id": "LXRY8MRjMclC",
        "colab": {
          "base_uri": "https://localhost:8080/"
        },
        "outputId": "c06ea6de-6928-4c8f-d36c-7d8eddaae7e6"
      },
      "outputs": [
        {
          "output_type": "stream",
          "name": "stdout",
          "text": [
            "Matrix:\n",
            "[[[5 5 5]\n",
            "  [4 4 5]\n",
            "  [4 4 5]]\n",
            "\n",
            " [[5 4 4]\n",
            "  [5 5 4]\n",
            "  [5 4 5]]\n",
            "\n",
            " [[4 4 4]\n",
            "  [4 5 5]\n",
            "  [4 4 5]]\n",
            "\n",
            " [[4 5 4]\n",
            "  [5 4 5]\n",
            "  [5 5 5]]\n",
            "\n",
            " [[5 5 4]\n",
            "  [4 5 5]\n",
            "  [5 4 4]]\n",
            "\n",
            " [[4 5 4]\n",
            "  [5 4 4]\n",
            "  [4 4 4]]\n",
            "\n",
            " [[4 4 5]\n",
            "  [5 4 4]\n",
            "  [5 5 4]]\n",
            "\n",
            " [[5 5 5]\n",
            "  [4 5 4]\n",
            "  [5 5 5]]\n",
            "\n",
            " [[4 4 4]\n",
            "  [4 4 4]\n",
            "  [5 4 5]]\n",
            "\n",
            " [[5 4 5]\n",
            "  [4 5 5]\n",
            "  [4 4 4]]\n",
            "\n",
            " [[5 4 4]\n",
            "  [5 5 5]\n",
            "  [5 4 5]]\n",
            "\n",
            " [[5 4 4]\n",
            "  [5 5 4]\n",
            "  [5 5 5]]\n",
            "\n",
            " [[4 5 4]\n",
            "  [5 4 4]\n",
            "  [4 5 5]]\n",
            "\n",
            " [[5 5 5]\n",
            "  [4 4 4]\n",
            "  [4 5 5]]\n",
            "\n",
            " [[5 4 4]\n",
            "  [5 4 5]\n",
            "  [4 5 5]]\n",
            "\n",
            " [[5 4 4]\n",
            "  [5 4 5]\n",
            "  [4 5 4]]\n",
            "\n",
            " [[4 4 5]\n",
            "  [5 4 5]\n",
            "  [5 4 4]]\n",
            "\n",
            " [[5 4 5]\n",
            "  [5 4 5]\n",
            "  [4 5 4]]\n",
            "\n",
            " [[5 5 5]\n",
            "  [4 4 5]\n",
            "  [4 4 4]]]\n",
            "Unique rows:\n"
          ]
        },
        {
          "output_type": "execute_result",
          "data": {
            "text/plain": [
              "array([[[4, 4, 5],\n",
              "        [4, 4, 5],\n",
              "        [5, 5, 5]],\n",
              "\n",
              "       [[5, 4, 5],\n",
              "        [5, 5, 4],\n",
              "        [5, 4, 4]],\n",
              "\n",
              "       [[4, 4, 5],\n",
              "        [4, 5, 5],\n",
              "        [4, 4, 4]],\n",
              "\n",
              "       [[5, 5, 5],\n",
              "        [5, 4, 5],\n",
              "        [4, 5, 4]],\n",
              "\n",
              "       [[5, 4, 4],\n",
              "        [4, 5, 5],\n",
              "        [5, 5, 4]],\n",
              "\n",
              "       [[4, 4, 4],\n",
              "        [5, 4, 4],\n",
              "        [4, 5, 4]],\n",
              "\n",
              "       [[5, 5, 4],\n",
              "        [5, 4, 4],\n",
              "        [4, 4, 5]],\n",
              "\n",
              "       [[5, 5, 5],\n",
              "        [4, 5, 4],\n",
              "        [5, 5, 5]],\n",
              "\n",
              "       [[5, 4, 5],\n",
              "        [4, 4, 4],\n",
              "        [4, 4, 4]],\n",
              "\n",
              "       [[4, 4, 4],\n",
              "        [4, 5, 5],\n",
              "        [5, 4, 5]],\n",
              "\n",
              "       [[5, 4, 5],\n",
              "        [5, 5, 5],\n",
              "        [5, 4, 4]],\n",
              "\n",
              "       [[5, 5, 5],\n",
              "        [5, 5, 4],\n",
              "        [5, 4, 4]],\n",
              "\n",
              "       [[4, 5, 5],\n",
              "        [5, 4, 4],\n",
              "        [4, 5, 4]],\n",
              "\n",
              "       [[4, 5, 5],\n",
              "        [4, 4, 4],\n",
              "        [5, 5, 5]],\n",
              "\n",
              "       [[4, 5, 5],\n",
              "        [5, 4, 5],\n",
              "        [5, 4, 4]],\n",
              "\n",
              "       [[4, 5, 4],\n",
              "        [5, 4, 5],\n",
              "        [5, 4, 4]],\n",
              "\n",
              "       [[5, 4, 4],\n",
              "        [5, 4, 5],\n",
              "        [4, 4, 5]],\n",
              "\n",
              "       [[4, 5, 4],\n",
              "        [5, 4, 5],\n",
              "        [5, 4, 5]],\n",
              "\n",
              "       [[4, 4, 4],\n",
              "        [4, 4, 5],\n",
              "        [5, 5, 5]]])"
            ]
          },
          "metadata": {},
          "execution_count": 355
        }
      ],
      "source": [
        "X =  np.random.randint(4, 6, size=(n, 3, 3))\n",
        "print('Matrix:')\n",
        "print(X)\n",
        "print('Unique rows:')\n",
        "get_unique_columns(X)"
      ]
    },
    {
      "cell_type": "markdown",
      "metadata": {
        "id": "9jHkHhMSMclD"
      },
      "source": [
        "# 3. Pandas & Visualization (4 points)\n"
      ]
    },
    {
      "cell_type": "markdown",
      "metadata": {
        "id": "Uwn1M0rgMclD"
      },
      "source": [
        "You are going to work with *Titanic* dataset which contains information about passengers of Titanic:\n",
        "- **Survived** - 1 - survived, 0 - died (0); **Target variable**\n",
        "- **pclass** - passengers's class;\n",
        "- **sex** - passengers's sex\n",
        "- **Age** - passengers's age in years\n",
        "- **sibsp**    - is the passenger someones siblings   \n",
        "- **parch**    - is the passenger someones child or parent\n",
        "- **ticket** - ticket number    \n",
        "- **fare** - ticket price    \n",
        "- **cabin** - cabin number\n",
        "- **embarked** - port of Embarkation; C = Cherbourg, Q = Queenstown, S = Southampton\n",
        "\n",
        "**Note** for all visualizations use matplotlib or seaborn but NOT plotly! Plotly's graphics sometimes vanish after saving. In this case the task wont't be graded.\n",
        "\n",
        "**Note** support all your answers with necessary code, computations, vizualization, and explanation. Answers without code and explanation won't be graded.\n",
        "\n",
        "**Task 0** (0 points) \\\n",
        "Load the dataset and print first 5 rows"
      ]
    },
    {
      "cell_type": "code",
      "execution_count": 356,
      "metadata": {
        "id": "81NzM_gwMclD",
        "colab": {
          "base_uri": "https://localhost:8080/",
          "height": 531
        },
        "outputId": "fd65ac5d-f769-4e0a-f144-c2e7fa1eb673"
      },
      "outputs": [
        {
          "output_type": "execute_result",
          "data": {
            "text/plain": [
              "   PassengerId  Survived  Pclass  \\\n",
              "0            1         0       3   \n",
              "1            2         1       1   \n",
              "2            3         1       3   \n",
              "3            4         1       1   \n",
              "4            5         0       3   \n",
              "\n",
              "                                                Name     Sex   Age  SibSp  \\\n",
              "0                            Braund, Mr. Owen Harris    male  22.0      1   \n",
              "1  Cumings, Mrs. John Bradley (Florence Briggs Th...  female  38.0      1   \n",
              "2                             Heikkinen, Miss. Laina  female  26.0      0   \n",
              "3       Futrelle, Mrs. Jacques Heath (Lily May Peel)  female  35.0      1   \n",
              "4                           Allen, Mr. William Henry    male  35.0      0   \n",
              "\n",
              "   Parch            Ticket     Fare Cabin Embarked  \n",
              "0      0         A/5 21171   7.2500   NaN        S  \n",
              "1      0          PC 17599  71.2833   C85        C  \n",
              "2      0  STON/O2. 3101282   7.9250   NaN        S  \n",
              "3      0            113803  53.1000  C123        S  \n",
              "4      0            373450   8.0500   NaN        S  "
            ],
            "text/html": [
              "\n",
              "  <div id=\"df-d17a6818-c1fa-4f1c-9c53-b82c880b3e7c\">\n",
              "    <div class=\"colab-df-container\">\n",
              "      <div>\n",
              "<style scoped>\n",
              "    .dataframe tbody tr th:only-of-type {\n",
              "        vertical-align: middle;\n",
              "    }\n",
              "\n",
              "    .dataframe tbody tr th {\n",
              "        vertical-align: top;\n",
              "    }\n",
              "\n",
              "    .dataframe thead th {\n",
              "        text-align: right;\n",
              "    }\n",
              "</style>\n",
              "<table border=\"1\" class=\"dataframe\">\n",
              "  <thead>\n",
              "    <tr style=\"text-align: right;\">\n",
              "      <th></th>\n",
              "      <th>PassengerId</th>\n",
              "      <th>Survived</th>\n",
              "      <th>Pclass</th>\n",
              "      <th>Name</th>\n",
              "      <th>Sex</th>\n",
              "      <th>Age</th>\n",
              "      <th>SibSp</th>\n",
              "      <th>Parch</th>\n",
              "      <th>Ticket</th>\n",
              "      <th>Fare</th>\n",
              "      <th>Cabin</th>\n",
              "      <th>Embarked</th>\n",
              "    </tr>\n",
              "  </thead>\n",
              "  <tbody>\n",
              "    <tr>\n",
              "      <th>0</th>\n",
              "      <td>1</td>\n",
              "      <td>0</td>\n",
              "      <td>3</td>\n",
              "      <td>Braund, Mr. Owen Harris</td>\n",
              "      <td>male</td>\n",
              "      <td>22.0</td>\n",
              "      <td>1</td>\n",
              "      <td>0</td>\n",
              "      <td>A/5 21171</td>\n",
              "      <td>7.2500</td>\n",
              "      <td>NaN</td>\n",
              "      <td>S</td>\n",
              "    </tr>\n",
              "    <tr>\n",
              "      <th>1</th>\n",
              "      <td>2</td>\n",
              "      <td>1</td>\n",
              "      <td>1</td>\n",
              "      <td>Cumings, Mrs. John Bradley (Florence Briggs Th...</td>\n",
              "      <td>female</td>\n",
              "      <td>38.0</td>\n",
              "      <td>1</td>\n",
              "      <td>0</td>\n",
              "      <td>PC 17599</td>\n",
              "      <td>71.2833</td>\n",
              "      <td>C85</td>\n",
              "      <td>C</td>\n",
              "    </tr>\n",
              "    <tr>\n",
              "      <th>2</th>\n",
              "      <td>3</td>\n",
              "      <td>1</td>\n",
              "      <td>3</td>\n",
              "      <td>Heikkinen, Miss. Laina</td>\n",
              "      <td>female</td>\n",
              "      <td>26.0</td>\n",
              "      <td>0</td>\n",
              "      <td>0</td>\n",
              "      <td>STON/O2. 3101282</td>\n",
              "      <td>7.9250</td>\n",
              "      <td>NaN</td>\n",
              "      <td>S</td>\n",
              "    </tr>\n",
              "    <tr>\n",
              "      <th>3</th>\n",
              "      <td>4</td>\n",
              "      <td>1</td>\n",
              "      <td>1</td>\n",
              "      <td>Futrelle, Mrs. Jacques Heath (Lily May Peel)</td>\n",
              "      <td>female</td>\n",
              "      <td>35.0</td>\n",
              "      <td>1</td>\n",
              "      <td>0</td>\n",
              "      <td>113803</td>\n",
              "      <td>53.1000</td>\n",
              "      <td>C123</td>\n",
              "      <td>S</td>\n",
              "    </tr>\n",
              "    <tr>\n",
              "      <th>4</th>\n",
              "      <td>5</td>\n",
              "      <td>0</td>\n",
              "      <td>3</td>\n",
              "      <td>Allen, Mr. William Henry</td>\n",
              "      <td>male</td>\n",
              "      <td>35.0</td>\n",
              "      <td>0</td>\n",
              "      <td>0</td>\n",
              "      <td>373450</td>\n",
              "      <td>8.0500</td>\n",
              "      <td>NaN</td>\n",
              "      <td>S</td>\n",
              "    </tr>\n",
              "  </tbody>\n",
              "</table>\n",
              "</div>\n",
              "      <button class=\"colab-df-convert\" onclick=\"convertToInteractive('df-d17a6818-c1fa-4f1c-9c53-b82c880b3e7c')\"\n",
              "              title=\"Convert this dataframe to an interactive table.\"\n",
              "              style=\"display:none;\">\n",
              "        \n",
              "  <svg xmlns=\"http://www.w3.org/2000/svg\" height=\"24px\"viewBox=\"0 0 24 24\"\n",
              "       width=\"24px\">\n",
              "    <path d=\"M0 0h24v24H0V0z\" fill=\"none\"/>\n",
              "    <path d=\"M18.56 5.44l.94 2.06.94-2.06 2.06-.94-2.06-.94-.94-2.06-.94 2.06-2.06.94zm-11 1L8.5 8.5l.94-2.06 2.06-.94-2.06-.94L8.5 2.5l-.94 2.06-2.06.94zm10 10l.94 2.06.94-2.06 2.06-.94-2.06-.94-.94-2.06-.94 2.06-2.06.94z\"/><path d=\"M17.41 7.96l-1.37-1.37c-.4-.4-.92-.59-1.43-.59-.52 0-1.04.2-1.43.59L10.3 9.45l-7.72 7.72c-.78.78-.78 2.05 0 2.83L4 21.41c.39.39.9.59 1.41.59.51 0 1.02-.2 1.41-.59l7.78-7.78 2.81-2.81c.8-.78.8-2.07 0-2.86zM5.41 20L4 18.59l7.72-7.72 1.47 1.35L5.41 20z\"/>\n",
              "  </svg>\n",
              "      </button>\n",
              "      \n",
              "  <style>\n",
              "    .colab-df-container {\n",
              "      display:flex;\n",
              "      flex-wrap:wrap;\n",
              "      gap: 12px;\n",
              "    }\n",
              "\n",
              "    .colab-df-convert {\n",
              "      background-color: #E8F0FE;\n",
              "      border: none;\n",
              "      border-radius: 50%;\n",
              "      cursor: pointer;\n",
              "      display: none;\n",
              "      fill: #1967D2;\n",
              "      height: 32px;\n",
              "      padding: 0 0 0 0;\n",
              "      width: 32px;\n",
              "    }\n",
              "\n",
              "    .colab-df-convert:hover {\n",
              "      background-color: #E2EBFA;\n",
              "      box-shadow: 0px 1px 2px rgba(60, 64, 67, 0.3), 0px 1px 3px 1px rgba(60, 64, 67, 0.15);\n",
              "      fill: #174EA6;\n",
              "    }\n",
              "\n",
              "    [theme=dark] .colab-df-convert {\n",
              "      background-color: #3B4455;\n",
              "      fill: #D2E3FC;\n",
              "    }\n",
              "\n",
              "    [theme=dark] .colab-df-convert:hover {\n",
              "      background-color: #434B5C;\n",
              "      box-shadow: 0px 1px 3px 1px rgba(0, 0, 0, 0.15);\n",
              "      filter: drop-shadow(0px 1px 2px rgba(0, 0, 0, 0.3));\n",
              "      fill: #FFFFFF;\n",
              "    }\n",
              "  </style>\n",
              "\n",
              "      <script>\n",
              "        const buttonEl =\n",
              "          document.querySelector('#df-d17a6818-c1fa-4f1c-9c53-b82c880b3e7c button.colab-df-convert');\n",
              "        buttonEl.style.display =\n",
              "          google.colab.kernel.accessAllowed ? 'block' : 'none';\n",
              "\n",
              "        async function convertToInteractive(key) {\n",
              "          const element = document.querySelector('#df-d17a6818-c1fa-4f1c-9c53-b82c880b3e7c');\n",
              "          const dataTable =\n",
              "            await google.colab.kernel.invokeFunction('convertToInteractive',\n",
              "                                                     [key], {});\n",
              "          if (!dataTable) return;\n",
              "\n",
              "          const docLinkHtml = 'Like what you see? Visit the ' +\n",
              "            '<a target=\"_blank\" href=https://colab.research.google.com/notebooks/data_table.ipynb>data table notebook</a>'\n",
              "            + ' to learn more about interactive tables.';\n",
              "          element.innerHTML = '';\n",
              "          dataTable['output_type'] = 'display_data';\n",
              "          await google.colab.output.renderOutput(dataTable, element);\n",
              "          const docLink = document.createElement('div');\n",
              "          docLink.innerHTML = docLinkHtml;\n",
              "          element.appendChild(docLink);\n",
              "        }\n",
              "      </script>\n",
              "    </div>\n",
              "  </div>\n",
              "  "
            ]
          },
          "metadata": {},
          "execution_count": 356
        }
      ],
      "source": [
        "dataset = pd.read_csv(\"titanic.csv\")\n",
        "dataset.head(5)"
      ]
    },
    {
      "cell_type": "markdown",
      "metadata": {
        "id": "w2c4b9gPMclE"
      },
      "source": [
        "**Task 1** (1 points) <br/>\n",
        "Answer the following questions:\n",
        "    \n",
        "    * Are there any missing values? In what columns?\n",
        "    * What is the percentage of survived passengers? Are the classes balanced?\n",
        "    * Were there more males or females?\n",
        "    * What what the least popular port of embarkation?\n",
        "    * How many classes (pclass) were there on Tinanic?\n",
        "    * What is the overall average ticket fare? And for every class?\n",
        "Please, write not only the answers but the code, proving it."
      ]
    },
    {
      "cell_type": "markdown",
      "source": [
        "1) Are there any missing values? In what columns?\n",
        "- Да, пропущенные значения есть. Они содержатся в столбцах Age, Cabin, Embarked."
      ],
      "metadata": {
        "id": "548z1xirtcV7"
      }
    },
    {
      "cell_type": "code",
      "execution_count": 357,
      "metadata": {
        "id": "51qGfJcCMclE",
        "colab": {
          "base_uri": "https://localhost:8080/"
        },
        "outputId": "911cf68f-079d-496a-fec1-bf9a13282e82"
      },
      "outputs": [
        {
          "output_type": "stream",
          "name": "stdout",
          "text": [
            "Count of rows in dataset: 891\n",
            "\n",
            "So, counts of missing values by columns are:\n",
            "PassengerId      0\n",
            "Survived         0\n",
            "Pclass           0\n",
            "Name             0\n",
            "Sex              0\n",
            "Age            177\n",
            "SibSp            0\n",
            "Parch            0\n",
            "Ticket           0\n",
            "Fare             0\n",
            "Cabin          687\n",
            "Embarked         2\n",
            "dtype: int64\n"
          ]
        }
      ],
      "source": [
        "#1\n",
        "print(f\"Count of rows in dataset: {dataset.shape[0]}\\n\")\n",
        "counts = dataset.count()\n",
        "\n",
        "print(\"So, counts of missing values by columns are:\")\n",
        "print(dataset.isnull().sum())"
      ]
    },
    {
      "cell_type": "markdown",
      "source": [
        "2) What is the percentage of survived passengers? Are the classes balanced?\n",
        "- Число выживших по всем классам от общего числа пассажиров:38.384%\n",
        "- Число выживших по классам: I: 62.963%; II: 47.283%; III: 24.236%\n",
        "\n",
        "- Таким образом, очевидно, что баланса в данных соотношениях нет, отношение выживших к общему числу в классе для 1 класса примерно в 1,5 раза выше, чем аналогичное во 2-м, и почти в 3 раза выше по сравнению с 3-м."
      ],
      "metadata": {
        "id": "BVF83ft8vjbD"
      }
    },
    {
      "cell_type": "code",
      "source": [
        "print(\"Percentage of survived passengers: {:.3f}%\".format(dataset['Survived'].sum()/dataset.shape[0]*100))\n",
        "sub_first = dataset.loc[dataset[\"Pclass\"] == 1, \"Survived\"]\n",
        "sub_second = dataset.loc[dataset[\"Pclass\"] == 2, \"Survived\"]\n",
        "sub_third = dataset.loc[dataset[\"Pclass\"] == 3, \"Survived\"]\n",
        "print(\"Percentage for 1-st class: {:.3f}%\".format(sub_first.sum()/sub_first.shape[0]*100))\n",
        "print(\"Percentage for 2-nd class: {:.3f}%\".format(sub_second.sum()/sub_second.shape[0]*100))\n",
        "print(\"Percentage for 3-rd class: {:.3f}%\".format(sub_third.sum()/sub_third.shape[0]*100))"
      ],
      "metadata": {
        "colab": {
          "base_uri": "https://localhost:8080/"
        },
        "id": "oWiN4wiuvq87",
        "outputId": "aeb8606b-10fd-4074-b1ba-12c69035b80e"
      },
      "execution_count": 358,
      "outputs": [
        {
          "output_type": "stream",
          "name": "stdout",
          "text": [
            "Percentage of survived passengers: 38.384%\n",
            "Percentage for 1-st class: 62.963%\n",
            "Percentage for 2-nd class: 47.283%\n",
            "Percentage for 3-rd class: 24.236%\n"
          ]
        }
      ]
    },
    {
      "cell_type": "markdown",
      "source": [
        "3) Were there more males or females?\n",
        "- Males."
      ],
      "metadata": {
        "id": "TrWO07HUEwr7"
      }
    },
    {
      "cell_type": "code",
      "source": [
        "genders_count = dataset.Sex.value_counts()\n",
        "print(genders_count)\n",
        "print(\"\\nThere was more {0} persons.\".format(\"male\" if genders_count.loc[\"male\"] > genders_count.loc[\"female\"] else \"female\"))"
      ],
      "metadata": {
        "colab": {
          "base_uri": "https://localhost:8080/"
        },
        "id": "bSylJbn8E-8u",
        "outputId": "4e58ce94-e150-4d37-9063-eb791f11a1d6"
      },
      "execution_count": 359,
      "outputs": [
        {
          "output_type": "stream",
          "name": "stdout",
          "text": [
            "male      577\n",
            "female    314\n",
            "Name: Sex, dtype: int64\n",
            "\n",
            "There was more male persons.\n"
          ]
        }
      ]
    },
    {
      "cell_type": "markdown",
      "source": [
        "4) What what the least popular port of embarkation?\n",
        "- Q.\n"
      ],
      "metadata": {
        "id": "NmvThcHIHCHk"
      }
    },
    {
      "cell_type": "code",
      "source": [
        "print(dataset.Embarked.value_counts().index[-1])"
      ],
      "metadata": {
        "colab": {
          "base_uri": "https://localhost:8080/"
        },
        "id": "gooFG12IIBqm",
        "outputId": "6569250d-9a17-46c9-c2ca-257f78f347a1"
      },
      "execution_count": 360,
      "outputs": [
        {
          "output_type": "stream",
          "name": "stdout",
          "text": [
            "Q\n"
          ]
        }
      ]
    },
    {
      "cell_type": "markdown",
      "source": [
        "5) How many classes (pclass) were there on Tinanic?\n",
        "- 3."
      ],
      "metadata": {
        "id": "RqB04Sd7MbT3"
      }
    },
    {
      "cell_type": "code",
      "source": [
        "print(dataset.Pclass.value_counts().shape[0])"
      ],
      "metadata": {
        "colab": {
          "base_uri": "https://localhost:8080/"
        },
        "id": "U-QjIgXfM6Tr",
        "outputId": "55fe3865-30ba-49c6-875e-5a357fd70b65"
      },
      "execution_count": 361,
      "outputs": [
        {
          "output_type": "stream",
          "name": "stdout",
          "text": [
            "3\n"
          ]
        }
      ]
    },
    {
      "cell_type": "markdown",
      "source": [
        "6) What is the overall average ticket fare? And for every class?\n",
        "- Average ticket fare: 32.204\n",
        "- I: 84.154687; II: 20.662183; III: 13.675550"
      ],
      "metadata": {
        "id": "_k6tUD82NtGA"
      }
    },
    {
      "cell_type": "code",
      "source": [
        "print(\"Average fare: {:.3f}\\n\".format(dataset.Fare.mean()))\n",
        "dataset.groupby(['Pclass']).mean()[\"Fare\"]"
      ],
      "metadata": {
        "colab": {
          "base_uri": "https://localhost:8080/"
        },
        "id": "4KnKHIJsNyFy",
        "outputId": "d9b4b10b-6ec7-4578-df81-7fde57e22350"
      },
      "execution_count": 362,
      "outputs": [
        {
          "output_type": "stream",
          "name": "stdout",
          "text": [
            "Average fare: 32.204\n",
            "\n"
          ]
        },
        {
          "output_type": "execute_result",
          "data": {
            "text/plain": [
              "Pclass\n",
              "1    84.154687\n",
              "2    20.662183\n",
              "3    13.675550\n",
              "Name: Fare, dtype: float64"
            ]
          },
          "metadata": {},
          "execution_count": 362
        }
      ]
    },
    {
      "cell_type": "markdown",
      "metadata": {
        "id": "_6JDzkPnMclE"
      },
      "source": [
        "**Task 2** (0.5 points) <br/>\n",
        "Visualize age distribution (you may use a histogram, for example). \n",
        "\n",
        "    * What is the minimal and maximum ages of the passengers? Visualize it on the plot\n",
        "    * What is the mean age? And among males and females sepatately? Visualize it on the plot\n",
        "    * Make conclusions about what you see on the plot"
      ]
    },
    {
      "cell_type": "code",
      "source": [
        "ages = dataset.sort_values(\"Age\")[\"Age\"]\n",
        "plt.plot(range(ages.shape[0]), ages,  linestyle=':')\n",
        "print(f'Mean age: {dataset[\"Age\"].mean()}')\n",
        "plt.plot([0, ages.shape[0]], [dataset[\"Age\"].mean(), dataset[\"Age\"].mean()],  '-r', linewidth=3, label='Mean age')\n",
        "plt.plot([0, ages.shape[0]], [ages.min(), ages.min()], '-r', linewidth=2, linestyle=':', label='Min age')\n",
        "plt.plot([0, ages.shape[0]], [ages.max(), ages.max()], '-g', linewidth=2, linestyle=':', label='Max age')\n",
        "group_ages = dataset.groupby(['Sex']).mean()['Age']\n",
        "female_mean_age, male_mean_age = group_ages['female'], group_ages['male']\n",
        "print(f\"Male mean age: {male_mean_age}, female mean age: {female_mean_age}\")\n",
        "plt.plot([0, ages.shape[0]], [female_mean_age, female_mean_age], '-b', linewidth=2, linestyle=':', label='female mean age')\n",
        "plt.plot([0, ages.shape[0]], [male_mean_age, male_mean_age], '-y', linewidth=2, linestyle=':', label='male mean age')\n",
        "plt.xlabel(\"Number of passenger\")\n",
        "plt.ylabel(\"Age of passenger\")\n",
        "plt.title(\"Ages of passengers\")\n",
        "plt.legend()\n",
        "plt.show()"
      ],
      "metadata": {
        "colab": {
          "base_uri": "https://localhost:8080/",
          "height": 89
        },
        "id": "cKTrF-fy5oxt",
        "outputId": "ca843ff8-fd16-44f8-f3cd-717de0a89553"
      },
      "execution_count": 363,
      "outputs": [
        {
          "output_type": "stream",
          "name": "stdout",
          "text": [
            "Mean age: 29.69911764705882\n",
            "Male mean age: 30.72664459161148, female mean age: 27.915708812260537\n"
          ]
        },
        {
          "output_type": "display_data",
          "data": {
            "text/plain": [
              "<Figure size 432x288 with 1 Axes>"
            ],
            "image/png": "[encoded data removed]"
          },
          "metadata": {
            "needs_background": "light"
          }
        }
      ]
    },
    {
      "cell_type": "markdown",
      "source": [
        "Средний возраст на корабле - 29.7 лет Средний возраст мужчин - 30.73 Средний возраст женщин - 27.92 По графику можно увидеть, что возраст пассажиров довольно равномерно распределен для пассажиров 20-50 лет Но пассажиров младше 20ти и старше 50ти значительно меньше, чем остальных. Так же интересно наблюдение, что женщины м среднем моложе, что вероятно связано с тем, что в то время в браке было принято, что женщина моложе мужчины.\n"
      ],
      "metadata": {
        "id": "u5e3IhC5AYfK"
      }
    },
    {
      "cell_type": "markdown",
      "metadata": {
        "id": "bpT-oEtXMclF"
      },
      "source": [
        "**Task 3** (1 points) <br/>\n",
        "Find all the titles of the passengers (example, *Capt., Mr.,Mme.*), which are written in the column Name, and answer the following questions:\n",
        "\n",
        "    * How many are there unique titles?\n",
        "    * How many are there passengers with every title?\n",
        "    * What is the most popular man's title? And woman's title?\n",
        "    \n",
        "**Hint** You may select the title from the name as a word which contains a dot."
      ]
    },
    {
      "cell_type": "markdown",
      "source": [
        "- There was 17 unique titles.\n",
        "- The answer is below.\n",
        "- For male: \"Mr\", for female: \"Miss\""
      ],
      "metadata": {
        "id": "BwxpkVuX522S"
      }
    },
    {
      "cell_type": "code",
      "execution_count": 364,
      "metadata": {
        "id": "Bw_Fwt4JMclF",
        "colab": {
          "base_uri": "https://localhost:8080/"
        },
        "outputId": "82986dc0-c4b5-470a-a78b-42664157a6d7"
      },
      "outputs": [
        {
          "output_type": "stream",
          "name": "stdout",
          "text": [
            "Count of unique titles:  17 \n",
            "\n",
            "Count of passengers with every title:\n",
            " Mr          517\n",
            "Miss        182\n",
            "Mrs         125\n",
            "Master       40\n",
            "Dr            7\n",
            "Rev           6\n",
            "Mlle          2\n",
            "Major         2\n",
            "Col           2\n",
            "Countess      1\n",
            "Capt          1\n",
            "Ms            1\n",
            "Sir           1\n",
            "Lady          1\n",
            "Mme           1\n",
            "Don           1\n",
            "Jonkheer      1\n",
            "Name: Name, dtype: int64 \n",
            "\n",
            "The most popular male title:  Mr\n",
            "The most popular female title:  Miss\n"
          ]
        }
      ],
      "source": [
        "def get_titles(source):\n",
        "  return source.str.split('.').str[0].str.split(' ').str[-1].value_counts()\n",
        "\n",
        "all_titles = get_titles(dataset.Name)\n",
        "print(\"Count of unique titles: \", all_titles.index.shape[0], \"\\n\")\n",
        "print(\"Count of passengers with every title:\\n\", all_titles, \"\\n\")\n",
        "\n",
        "genders = dataset.groupby(['Sex'])\n",
        "print(\"The most popular male title: \", get_titles(genders.get_group('male')['Name']).index[0])\n",
        "print(\"The most popular female title: \", get_titles(genders.get_group('female')['Name']).index[0])"
      ]
    },
    {
      "cell_type": "markdown",
      "metadata": {
        "id": "oJoNKne8MclF"
      },
      "source": [
        "**Task 4** (0.5 points) <br/>\n",
        "Is there correlation between *pclass* and *ticket price*? Calculate mean price for each port and visualize prize distribution for each port. Make conclusions about what you see on the plot\n",
        "\n",
        "Hint: you could make one or several plot types i.e.  box, violine, pair, histogram (see additional notebooks for Seminar 1 \"Visualization with Seaborn\"). main point here is to **choose** plots wisely and **make meaningful conclusions**\n",
        "\n"
      ]
    },
    {
      "cell_type": "code",
      "execution_count": 365,
      "metadata": {
        "id": "R7It-yHGMclF",
        "colab": {
          "base_uri": "https://localhost:8080/",
          "height": 193
        },
        "outputId": "201eacd1-f078-4d30-8016-fbc4b1a3eb21"
      },
      "outputs": [
        {
          "output_type": "stream",
          "name": "stdout",
          "text": [
            "Correlation between class and fare:  -0.5494996199439074\n",
            "First class mean fare (ticket price): 84.1546875\n",
            "Second class mean fare (ticket price): 20.662183152173913\n",
            "Third class mean fare (ticket price): 13.675550101832993\n"
          ]
        },
        {
          "output_type": "display_data",
          "data": {
            "text/plain": [
              "<Figure size 1152x576 with 3 Axes>"
            ],
            "image/png": "[encoded data removed]"
          },
          "metadata": {}
        },
        {
          "output_type": "execute_result",
          "data": {
            "text/plain": [
              "<matplotlib.axes._subplots.AxesSubplot at 0x7f81c4df3990>"
            ]
          },
          "metadata": {},
          "execution_count": 365
        },
        {
          "output_type": "display_data",
          "data": {
            "text/plain": [
              "<Figure size 1152x576 with 1 Axes>"
            ],
            "image/png": "[encoded data removed]"
          },
          "metadata": {}
        }
      ],
      "source": [
        "print(\"Correlation between class and fare: \", dataset[\"Pclass\"].corr(dataset[\"Fare\"]))\n",
        "sub_first_fare = dataset.loc[dataset[\"Pclass\"] == 1, \"Fare\"]\n",
        "sub_second_fare = dataset.loc[dataset[\"Pclass\"] == 2, \"Fare\"]\n",
        "sub_third_fare = dataset.loc[dataset[\"Pclass\"] == 3, \"Fare\"]\n",
        "print(f\"First class mean fare (ticket price): {sub_first_fare.mean()}\")\n",
        "print(f\"Second class mean fare (ticket price): {sub_second_fare.mean()}\")\n",
        "print(f\"Third class mean fare (ticket price): {sub_third_fare.mean()}\")\n",
        "\n",
        "sns.set(rc={\"figure.figsize\":(16, 8)})\n",
        "\n",
        "fig, axes = plt.subplots(1, 3)\n",
        "f_plot = sns.histplot(data = sub_first_fare, color = 'navy', ax=axes[0])\n",
        "f_plot.set(xlabel =\"First class fare\", ylabel = \"Count\", title ='First class')\n",
        "s_plot = sns.histplot(data = sub_second_fare, color = 'navy', ax=axes[1])\n",
        "s_plot.set(xlabel =\"Second class fare\", ylabel = \"Count\", title ='Second class')\n",
        "t_plot = sns.histplot(data = sub_third_fare, color = 'navy', ax=axes[2])\n",
        "t_plot.set(xlabel =\"Third class fare\", ylabel = \"Count\", title ='Third class')\n",
        "plt.show()\n",
        "\n",
        "sns.boxplot(data=dataset, x=\"Pclass\", y=\"Fare\")"
      ]
    },
    {
      "cell_type": "markdown",
      "source": [
        "**Conclusion:** Между величинами цены билета и классом значение корреляции округлённо равняется -0,55, что говорит о средней (по шкале Чеддока) обратной зависимости между этими величинами. Иными словами, чем выше стоимость билета, тем меньше (престижнее) номер класса, и наоборот, чем ниже стоимость билета, тем больше(хуже) номер класса.\n",
        "- Округлённые средние значения стоимости для билетов разных классов следующие: I: 84.155; II: 20.662; III: 13.676. По этим данным нетрудно заметить, что с ухудшением класса падает цена, что и было предположено по корреляции между данными величинами. Однако средние значения указывает только на центр распределения по классам и ничего не сообщает о наличии выбросов.\n",
        "- Был построен boxplot для всех трёх классов. Выбросы наблюдаются у всех классов. Распределения имеет положительную асимметрию, поскольку ус и полубокс длиннее сверху от медианы, чем снизу.\n",
        "- Гистограмма цен на билеты для первого класса наводит на мысли, что цена для первого класса может иметь логнормальное распределение.\n"
      ],
      "metadata": {
        "id": "CUItWoDlNAGn"
      }
    },
    {
      "cell_type": "markdown",
      "metadata": {
        "id": "a8KS4B4cMclF"
      },
      "source": [
        "**Task 5** (0.5 points) <br/>\n",
        "The same question as in task 4 about correlation between *embarked* and *ticket priсe*."
      ]
    },
    {
      "cell_type": "code",
      "source": [
        "data_copy = dataset.copy().loc[:, [\"Embarked\", \"Fare\"]]"
      ],
      "metadata": {
        "id": "exOuZVhTunE9"
      },
      "execution_count": 366,
      "outputs": []
    },
    {
      "cell_type": "code",
      "source": [
        "# embarked - port of Embarkation; C = Cherbourg, Q = Queenstown, S = Southampton\n",
        "\n",
        "# Delete rows with nan in embarked column\n",
        "data_copy.dropna(subset=[\"Embarked\"], inplace=True)\n",
        "\n",
        "# Translate categorial variable to integer enum\n",
        "data_copy[\"Embarked\"] = pd.factorize(data_copy[\"Embarked\"])[0]\n",
        "\n",
        "# These ports may have the same significance,\n",
        "# by translating this categorical feature into an integer enumeration,\n",
        "# we could change their significance,\n",
        "# so the correlation may not give exactly correct results.\n",
        "print(\"Correlation between embarked and fare columns: \", data_copy[\"Embarked\"].corr(data_copy[\"Fare\"]))\n",
        "\n",
        "sub_first_port = data_copy.loc[data_copy[\"Embarked\"] == 0, \"Fare\"]\n",
        "sub_second_port = data_copy.loc[data_copy[\"Embarked\"] == 1, \"Fare\"]\n",
        "sub_third_port = data_copy.loc[data_copy[\"Embarked\"] == 2, \"Fare\"]\n",
        "\n",
        "print(f\"First port mean fare (ticket price): {sub_first_port.mean()}\")\n",
        "print(f\"Second port mean fare (ticket price): {sub_second_port.mean()}\")\n",
        "print(f\"Third port mean fare (ticket price): {sub_third_port.mean()}\")\n",
        "\n",
        "#I: 27.08; II: 59.954; III: 13.276. Let's try to swap indexes.\n",
        "data_copy['Embarked'] = data_copy['Embarked'].replace([0],4)\n",
        "data_copy['Embarked'] = data_copy['Embarked'].replace([1],5)\n",
        "data_copy['Embarked'] = data_copy['Embarked'].replace([2],3)\n",
        "\n",
        "print(\"Correlation between corrected embarked and fare columns: \", data_copy[\"Embarked\"].corr(data_copy[\"Fare\"]))\n",
        "\n",
        "\n",
        "sns.set(rc={\"figure.figsize\":(16, 8)})\n",
        "fig, axes = plt.subplots(1, 3)\n",
        "f_plot = sns.histplot(data = sub_first_port, color = 'navy', ax=axes[0])\n",
        "f_plot.set(xlabel =\"First port fare\", ylabel = \"Count\", title ='First port fare')\n",
        "s_plot = sns.histplot(data = sub_second_port, color = 'navy', ax=axes[1])\n",
        "s_plot.set(xlabel =\"Second port fare\", ylabel = \"Count\", title ='Second port fare')\n",
        "t_plot = sns.histplot(data = sub_third_port, color = 'navy', ax=axes[2])\n",
        "t_plot.set(xlabel =\"Third port fare\", ylabel = \"Count\", title ='Third port fare')\n",
        "plt.show()\n",
        "\n",
        "sns.boxplot(data=data_copy, x=\"Embarked\", y=\"Fare\")"
      ],
      "metadata": {
        "colab": {
          "base_uri": "https://localhost:8080/",
          "height": 211
        },
        "id": "2UNMGtzxlSHR",
        "outputId": "96cda132-a699-464f-8a78-e3ecb32046c1"
      },
      "execution_count": 367,
      "outputs": [
        {
          "output_type": "stream",
          "name": "stdout",
          "text": [
            "Correlation between embarked and fare columns:  0.06346234476922943\n",
            "First port mean fare (ticket price): 27.079811801242233\n",
            "Second port mean fare (ticket price): 59.95414404761905\n",
            "Third port mean fare (ticket price): 13.276029870129872\n",
            "Correlation between corrected embarked and fare columns:  0.2695875522775061\n"
          ]
        },
        {
          "output_type": "display_data",
          "data": {
            "text/plain": [
              "<Figure size 1152x576 with 3 Axes>"
            ],
            "image/png": "[encoded data removed]"
          },
          "metadata": {}
        },
        {
          "output_type": "execute_result",
          "data": {
            "text/plain": [
              "<matplotlib.axes._subplots.AxesSubplot at 0x7f81c4f92dd0>"
            ]
          },
          "metadata": {},
          "execution_count": 367
        },
        {
          "output_type": "display_data",
          "data": {
            "text/plain": [
              "<Figure size 1152x576 with 1 Axes>"
            ],
            "image/png": "[encoded data removed]"
          },
          "metadata": {}
        }
      ]
    },
    {
      "cell_type": "markdown",
      "source": [
        "**Conclusion:** Порт - категориальный признак, для возможности использования мат. функций было необходимо привести его к целочисленному перечислению и что-то сделать с 2 пустыми ячейками. Было принято решение удалить пустые ячейки , поскольку относительно общего числа строк в датасете (891) эти две не так важны. Поначалу названия портов были переведены в последовательность [0, 1, 2], между данными числами есть порядок, однако между портами мог быть другой порядок. Интуитивно хочется расположить индексы в порядке их удалённости, такими данными мы не располагаем, есть смысл попробовать изменить порядок перечисления по возрастанию средней стоимости (по идее, чем дальше плыть, тем дороже поездка). После корректировки индексы стали: [0, 1, 2] -> [4, 5, 3]\n",
        "\n",
        "- Итак, дав случайные индексы мы получили корреляцию 0,063, что явно не позволяет говорить о зависимости между этими величинами. Рассчитаем средние стоимости билетов по портам: I: 27.08; II: 59.954; III: 13.276. Можно предположить, что по возрастанию стоимости порты можно расположить так: III, I, II. И действительно, корреляция стала равняться примерно 0.269, а по шкале Чеддока это уже слабая прямая зависимость.\n",
        "- Построенные гистограммы распределения стоимостей билетов по портам объясняют, почему зависимость слабая: например, от 0 до 40 у.е. были билеты во все 3 порта, тем не менее сегмент цен 100+ за вторым (5) портом, минимальных цен за третьим (3), а первый (4) аккурат между ними.\n",
        "- Был построен boxplot для всех трёх классов. Выбросы наблюдаются у всех классов, однако у последнего порта (3) их всего 2, у среднего(5) - 4, а у первого (4) порта их значительно больше. Медиана смещена у всех, распределения имеет положительную асимметрию, поскольку ус и полубокс длиннее сверху от медианы, чем снизу.\n"
      ],
      "metadata": {
        "id": "-iVc2VwAq375"
      }
    },
    {
      "cell_type": "markdown",
      "metadata": {
        "id": "GNO-Df1mMclG"
      },
      "source": [
        "**Task 6** (0.5 points) <br/>\n",
        "Visualize age distribution for survived and not survived passengers separately and calculate the mean age for each class. Are they different? Provide the same visualization for males and females separately. Make conclusions about what you see on the plots"
      ]
    },
    {
      "cell_type": "code",
      "execution_count": 368,
      "metadata": {
        "id": "E-xUFbDYMclG",
        "colab": {
          "base_uri": "https://localhost:8080/",
          "height": 176
        },
        "outputId": "e42416d6-61dd-41b3-c945-dee66b0949b5"
      },
      "outputs": [
        {
          "output_type": "stream",
          "name": "stderr",
          "text": [
            "/usr/local/lib/python3.7/dist-packages/ipykernel_launcher.py:3: FutureWarning: Dropping of nuisance columns in DataFrame reductions (with 'numeric_only=None') is deprecated; in a future version this will raise TypeError.  Select only valid columns before calling the reduction.\n",
            "  This is separate from the ipykernel package so we can avoid doing imports until\n",
            "/usr/local/lib/python3.7/dist-packages/ipykernel_launcher.py:4: FutureWarning: Dropping of nuisance columns in DataFrame reductions (with 'numeric_only=None') is deprecated; in a future version this will raise TypeError.  Select only valid columns before calling the reduction.\n",
            "  after removing the cwd from sys.path.\n"
          ]
        },
        {
          "output_type": "stream",
          "name": "stdout",
          "text": [
            "Mean age of unsurvived passengers:  30.62617924528302\n",
            "Mean age of survived passengers:  28.343689655172415\n"
          ]
        },
        {
          "output_type": "display_data",
          "data": {
            "text/plain": [
              "<Figure size 1152x576 with 1 Axes>"
            ],
            "image/png": "[encoded data removed]"
          },
          "metadata": {}
        },
        {
          "output_type": "display_data",
          "data": {
            "text/plain": [
              "<Figure size 1152x576 with 1 Axes>"
            ],
            "image/png": "[encoded data removed]"
          },
          "metadata": {}
        }
      ],
      "source": [
        "survived_age_means = dataset.groupby([\"Survived\"])\n",
        "\n",
        "surv_age = survived_age_means.get_group(0).mean()[\"Age\"]\n",
        "unsurv_age = survived_age_means.get_group(1).mean()[\"Age\"]\n",
        "print(\"Mean age of unsurvived passengers: \", surv_age)\n",
        "print(\"Mean age of survived passengers: \", unsurv_age)\n",
        "\n",
        "asrty = survived_age_means.get_group(0).sort_values('Age')[\"Age\"].dropna()\n",
        "count_of_ages = asrty.count()\n",
        "plt.plot(range(asrty.count()), asrty, label=\"Age\")\n",
        "plt.plot([0, asrty.count()], [unsurv_age, unsurv_age], '-r', linewidth=2, linestyle=':', label='mean age')\n",
        "\n",
        "plt.xlabel(\"Number of passenger\")\n",
        "plt.ylabel(\"Age of passenger\")\n",
        "plt.title(\"Unsurvived passengers's ages\")\n",
        "plt.legend()\n",
        "plt.show()\n",
        "\n",
        "\n",
        "\n",
        "asrty = survived_age_means.get_group(1).sort_values('Age')[\"Age\"].dropna()\n",
        "count_of_ages = asrty.count()\n",
        "plt.plot(range(asrty.count()), asrty, label=\"Age\")\n",
        "plt.plot([0, asrty.count()], [surv_age, surv_age], '-r', linewidth=2, linestyle=':', label='mean age')\n",
        "\n",
        "plt.xlabel(\"Number of passenger\")\n",
        "plt.ylabel(\"Age of passenger\")\n",
        "plt.title(\"Survived passengers's ages\")\n",
        "plt.legend()\n",
        "plt.show()\n"
      ]
    },
    {
      "cell_type": "markdown",
      "source": [
        "Таким образом, средний возраст погибших:  30.626 лет, а средний возраст выживших: 28.344 года. Люди старшего возраста могли оказаться неповоротливее молодёжи, отчего число спасшихся молодых персон может быть чуточку больше. В целом, погибло людей больше, чем спаслось, среди спасшихся есть и маленькие дети, это видно по замедленному росту графика спасшихся, скорее всего, малюток передавали тем, кто смог выбраться. Старики также есть среди спасшихся. Как мы установили выше, чем престижнее класс, тем больше в нём выживших, чаще состояние скапливают очень взрослые люди, возможно, поэтому эти старики успели эвакуироваться, впрочем повторю, молодого(среднего) поколения здесь больше."
      ],
      "metadata": {
        "id": "-qBW5EopRHXm"
      }
    }
  ],
  "metadata": {
    "kernelspec": {
      "display_name": "Python 3 (ipykernel)",
      "language": "python",
      "name": "python3"
    },
    "language_info": {
      "codemirror_mode": {
        "name": "ipython",
        "version": 3
      },
      "file_extension": ".py",
      "mimetype": "text/x-python",
      "name": "python",
      "nbconvert_exporter": "python",
      "pygments_lexer": "ipython3",
      "version": "3.9.7"
    },
    "colab": {
      "provenance": [],
      "collapsed_sections": [
        "uDPdIkzEMck1",
        "RoM8wDA_Mck4",
        "LyVIujQcMck9",
        "9jHkHhMSMclD"
      ]
    }
  },
  "nbformat": 4,
  "nbformat_minor": 0
}