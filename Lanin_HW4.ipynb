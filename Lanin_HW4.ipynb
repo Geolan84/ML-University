{
  "cells": [
    {
      "cell_type": "markdown",
      "metadata": {
        "id": "Cd3Otymyg1Ub"
      },
      "source": [
        "# HSE 2021: Mathematical Methods for Data Analysis\n",
        "\n",
        "## Homework 4\n",
        "\n",
        "**Warning 1**: You have 2 weeks for this assignemnt.  **it is better to start early (!)**\n",
        "\n",
        "**Warning 2**: it is critical to describe and explain what you are doing and why, use markdown cells\n",
        "\n",
        "\n",
        "### Contents\n",
        "\n",
        "#### Decision Trees - 7 points\n",
        "* [Task 1](#task1) (0.5 points)\n",
        "* [Task 2](#task2) (0.5 points)\n",
        "* [Task 3](#task3) (2 points)\n",
        "* [Task 4](#task4) (0.5 points)\n",
        "* [Task 5](#task5) (0.5 points)\n",
        "* [Task 6](#task6) (2 points)\n",
        "* [Task 7](#task7) (0.5 points)\n",
        "* [Task 8](#task8) (0.5 points)\n",
        "\n",
        "#### Ensembles - 3 points\n",
        "* [Task 1](#task2_1) (1 point)\n",
        "* [Task 2](#task2_2) (0.7 points)\n",
        "* [Task 3](#task2_3) (0.5 points)\n",
        "* [Task 4](#task2_4) (0.7 points)\n",
        "* [Task 5](#task2_5) (0.1 points)"
      ]
    },
    {
      "cell_type": "code",
      "execution_count": null,
      "metadata": {
        "id": "CLe_GHVeg1Uc"
      },
      "outputs": [],
      "source": [
        "import matplotlib.pyplot as plt\n",
        "import numpy as np\n",
        "import pandas as pd\n",
        "\n",
        "plt.rcParams['figure.figsize'] = (11, 5)\n",
        "%matplotlib inline\n",
        "\n",
        "#Sorry, I don't want to see warning in boston_dataset loading\n",
        "import warnings\n",
        "warnings.filterwarnings('ignore')"
      ]
    },
    {
      "cell_type": "markdown",
      "metadata": {
        "id": "cXWl1md9g1Ud"
      },
      "source": [
        "# Part 1. Decision Tree Regressor"
      ]
    },
    {
      "cell_type": "markdown",
      "metadata": {
        "id": "xi8aLgmLg1Ue"
      },
      "source": [
        "In this task you will be implementing decision tree for the regression by hand. "
      ]
    },
    {
      "cell_type": "markdown",
      "metadata": {
        "id": "O-04uE20g1Ue"
      },
      "source": [
        "### Task 1 <a id=\"task1\"></a> (0.5 points)\n",
        "\n",
        "Here you should implement the function `H()` which calculates impurity criterion. We will be training regression tree, and will take mean absolute deviation as impurity criterion.\n",
        "\n",
        "* You cannot use loops\n",
        "* If `y` is empty, the function should return 0"
      ]
    },
    {
      "cell_type": "code",
      "execution_count": null,
      "metadata": {
        "id": "bOqN4zsgg1Uf"
      },
      "outputs": [],
      "source": [
        "def H(y):\n",
        "    \"\"\"\n",
        "    Calculate impurity criterion\n",
        "    \n",
        "    Parameters\n",
        "    ----------\n",
        "    y : np.array\n",
        "        array of objects target values in the node\n",
        "\n",
        "    Returns\n",
        "    -------\n",
        "    H(R) : float\n",
        "        Impurity in the node (measuread by variance)\n",
        "    \"\"\"\n",
        "\n",
        "    if not np.any(y):\n",
        "      return 0.0\n",
        "\n",
        "    #Формула выборочной дисперсии.\n",
        "    return np.mean(np.power(y - np.mean(y), 2))"
      ]
    },
    {
      "cell_type": "code",
      "execution_count": null,
      "metadata": {
        "id": "blKx2BxCg1Ug"
      },
      "outputs": [],
      "source": [
        "# Test the function\n",
        "assert np.allclose(H(np.array([4, 2, 2, 2])), 0.75)\n",
        "assert np.allclose(H(np.array([])), 0.0)"
      ]
    },
    {
      "cell_type": "markdown",
      "metadata": {
        "id": "G-hXA8M6g1Uh"
      },
      "source": [
        "### Task 2 <a id=\"task2\"></a>  (0.5 points)\n",
        "\n",
        "To find the best split in the node we need to calculate the cost function. Denote: \n",
        "- `R` all the object in the node\n",
        "- `j` index of the feature selected for the split\n",
        "- `t` threshold\n",
        "- `R_l` and `R_r` objects in the left and right child nodes correspondingly\n",
        "\n",
        "We get the following cost function:\n",
        "\n",
        "$$\n",
        "Q(R, j, t) =\\frac{|R_\\ell|}{|R|}H(R_\\ell) + \\frac{|R_r|}{|R|}H(R_r) \\to \\min_{j, t},\n",
        "$$\n",
        "\n",
        "Implement the function `Q`, which should calculate value of the cost function for a given feature and threshold."
      ]
    },
    {
      "cell_type": "code",
      "execution_count": null,
      "metadata": {
        "id": "N1gN20J6g1Uh"
      },
      "outputs": [],
      "source": [
        "def Q(X, y, j, t):\n",
        "    \"\"\"\n",
        "    Calculate cost function\n",
        "    Parameters\n",
        "    ----------\n",
        "    X : ndarray\n",
        "        array of objects in the node \n",
        "    y : ndarray\n",
        "        array of target values in the node \n",
        "    j : int\n",
        "        feature index (column in X)\n",
        "    t : float\n",
        "        threshold\n",
        "\n",
        "    Returns\n",
        "    -------\n",
        "    Q : float\n",
        "        Value of the cost function\n",
        "    \"\"\"\n",
        "    X_length = len(X)\n",
        "    column_values = X[:,j]\n",
        "    R_left = y[column_values < t]\n",
        "    R_right = y[column_values >= t]\n",
        "    return len(R_left)/X_length*H(R_left) + len(R_right)/X_length*H(R_right)"
      ]
    },
    {
      "cell_type": "markdown",
      "metadata": {
        "id": "kDLxhvqXg1Ui"
      },
      "source": [
        "### Task 3 <a id=\"task3\"></a>  (2 points)\n",
        "\n",
        "Now, let's implement `MyDecisionTreeRegressor` class. More specifically, you need to implement the following methods:\n",
        "\n",
        "- `best_split`\n",
        "- `grow_tree`\n",
        "- `get_prediction`\n",
        "\n",
        "Also, please add `min_samples_leaf` parameter to your class\n",
        "\n",
        "Read docstrings for more details. Do not forget to use function `Q` implemented above, when finding the `best_split`"
      ]
    },
    {
      "cell_type": "code",
      "execution_count": null,
      "metadata": {
        "id": "ONfZQYRmg1Uj"
      },
      "outputs": [],
      "source": [
        "class Node(object):\n",
        "    \"\"\"\n",
        "    Class for a decision tree node.\n",
        "    \n",
        "    Parameters\n",
        "    ----------\n",
        "    right : Node() or None\n",
        "        Right child\n",
        "    right : Node() or None\n",
        "        Left child\n",
        "    threshold: float\n",
        "        \n",
        "    column: int\n",
        "        \n",
        "    depth: int\n",
        "        \n",
        "    prediction: float\n",
        "        prediction of the target value in the node \n",
        "        (average values calculated on a train dataset)\n",
        "    is_terminal:bool\n",
        "        indicates whether it is a terminal node (leaf) or not\n",
        "    \"\"\"    \n",
        "    def __init__(self):        \n",
        "        self.right = None\n",
        "        self.left = None\n",
        "        self.threshold = None\n",
        "        self.column = None\n",
        "        self.depth = None\n",
        "        self.is_terminal = False\n",
        "        self.prediction = None\n",
        "        \n",
        "    def __repr__(self):\n",
        "        if self.is_terminal:\n",
        "            node_desc = 'Pred: {:.2f}'.format(self.prediction)\n",
        "        else:\n",
        "            node_desc = 'Col {}, t {:.2f}, Pred: {:.2f}'. \\\n",
        "            format(self.column, self.threshold, self.prediction)\n",
        "        return node_desc"
      ]
    },
    {
      "cell_type": "code",
      "execution_count": 29,
      "metadata": {
        "id": "mSMe5O6Qg1Uk"
      },
      "outputs": [],
      "source": [
        "from sklearn.base import BaseEstimator, RegressorMixin\n",
        "from sklearn.utils.validation import check_X_y, check_array, check_is_fitted\n",
        "\n",
        "class MyDecisionTreeRegressor(RegressorMixin, BaseEstimator):\n",
        "    \"\"\"\n",
        "    Class for a Decision Tree Regressor.\n",
        "\n",
        "    Parameters\n",
        "    ----------\n",
        "    max_depth : int\n",
        "        Max depth of a decision tree.\n",
        "    min_samples_split : int\n",
        "        Minimal number of samples (objects) in a node to make a split.\n",
        "    \"\"\" \n",
        "    def __init__(self, max_depth=3, min_samples_split=2, min_samples_leaf=1):\n",
        "        self.max_depth = max_depth\n",
        "        self.min_samples_split = min_samples_split\n",
        "        self.min_samples_leaf = min_samples_leaf\n",
        "            \n",
        "    def best_split(self, X, y):\n",
        "        \"\"\"\n",
        "        Find the best split in terms of Q of data in a given decision tree node. \n",
        "        Try all features and thresholds. \n",
        "        \n",
        "        Parameters\n",
        "        ----------\n",
        "        X : ndarray, shape (n_objects, n_features)\n",
        "            Objects in the parent node\n",
        "        y : ndarray, shape (n_objects, )\n",
        "            1D array with the object labels. \n",
        "            \n",
        "        Returns\n",
        "        -------\n",
        "        best_split_column : int\n",
        "            Index of the best split column\n",
        "        best_threshold : float\n",
        "            The best split condition.\n",
        "        X_left : ndarray, shape (n_objects_l, n_features)\n",
        "            Objects in the left child\n",
        "        y_left : ndarray, shape (n_objects_l, )\n",
        "            Objects labels in the left child. \n",
        "        X_right : ndarray, shape (n_objects_r, n_features)\n",
        "            Objects in the right child\n",
        "        y_right : ndarray, shape (n_objects_r, )\n",
        "            Objects labels in the right child. \n",
        "        \"\"\"\n",
        "        \n",
        "        # To store best split parameters\n",
        "        best_split_column = None\n",
        "        best_threshold = None\n",
        "        # without splitting\n",
        "        best_cost = H(y) \n",
        "        is_not_divided = True\n",
        "\n",
        "        # MY CODE HERE\n",
        "        for temp_column_for_split in range(X.shape[1]):\n",
        "            x_col = X[:, temp_column_for_split]\n",
        "            for temp_threshold_index in range(0, len(x_col)):\n",
        "                threshold = x_col[temp_threshold_index]\n",
        "                y_right = y[x_col > threshold]\n",
        "                y_left = y[x_col <= threshold]\n",
        "                # Empty parts are not allowed.            \n",
        "                if len(y_right) == 0 or len(y_left) == 0:\n",
        "                    continue\n",
        "                # min_samples_leaf limitation\n",
        "                if len(y_right) < self.min_samples_leaf or len(y_left) < self.min_samples_leaf:\n",
        "                    continue\n",
        "                temp_cost = Q(X, y, temp_column_for_split, threshold)\n",
        "                if temp_cost < best_cost:\n",
        "                    is_not_divided = False\n",
        "                    best_split_column = temp_column_for_split\n",
        "                    best_threshold = threshold\n",
        "                    best_cost = temp_cost\n",
        "\n",
        "        if is_not_divided:\n",
        "            return None, None, None, None, None, None\n",
        "\n",
        "        x_column = X[:, best_split_column]\n",
        "        X_left = X[x_column < best_threshold, :]\n",
        "        y_left = y[x_column < best_threshold]\n",
        "        X_right = X[x_column >= best_threshold, :]\n",
        "        y_right = y[x_column >= best_threshold]\n",
        "        return best_split_column, best_threshold, X_left, y_left, X_right, y_right\n",
        "    \n",
        "    def is_terminal(self, node, y):\n",
        "        \"\"\"\n",
        "        Check terminality conditions based on `max_depth`, \n",
        "        `min_samples_split` parameters for a given node. \n",
        "        \n",
        "        Parameters\n",
        "        ----------\n",
        "        node : Node, \n",
        "            \n",
        "        y : ndarray, shape (n_objects, )\n",
        "            Object labels. \n",
        "            \n",
        "        Returns\n",
        "        -------\n",
        "        Is_termial : bool\n",
        "            If True, node is terminal\n",
        "        \"\"\"\n",
        "        if node.depth >= self.max_depth:    \n",
        "            return True\n",
        "        if len(y) < self.min_samples_split:   \n",
        "            return True\n",
        "        return False\n",
        "        \n",
        "    def grow_tree(self, node, X, y):\n",
        "        \"\"\"\n",
        "        Reccurently grow the tree from the `node` using a `X` and `y` as a dataset:\n",
        "         - check terminality conditions\n",
        "         - find best split if node is not terminal\n",
        "         - add child nodes to the node\n",
        "         - call the function recursively for the added child nodes\n",
        "        \n",
        "        Parameters\n",
        "        ----------\n",
        "        node : Node() object\n",
        "            Current node of the decision tree.\n",
        "        X : ndarray, shape (n_objects, n_features)\n",
        "            Objects \n",
        "        y : ndarray, shape (n_objects)\n",
        "            Labels\n",
        "        \"\"\"\n",
        "        #From seminar's example.\n",
        "        if self.is_terminal(node, y):\n",
        "            node.is_terminal = True\n",
        "            return\n",
        "                \n",
        "        if len(np.unique(y)) == 1:\n",
        "            node.is_terminal = True\n",
        "            return\n",
        "        \n",
        "            \n",
        "        best_split_column, best_threshold, X_left, y_left, X_right, y_right = self.best_split(X,y)\n",
        "\n",
        "        node.threshold = best_threshold\n",
        "        node.column = best_split_column\n",
        "        \n",
        "        if best_threshold is None:\n",
        "            node.is_terminal = True\n",
        "            return\n",
        "\n",
        "        node.left = Node()\n",
        "        node.left.depth = node.depth + 1\n",
        "        node.left.prediction = np.mean(y_left)\n",
        "        \n",
        "        node.right = Node()\n",
        "        node.right.depth = node.depth + 1\n",
        "        node.right.prediction = np.mean(y_right)\n",
        "\n",
        "        self.grow_tree(node.left, X_left, y_left)\n",
        "        self.grow_tree(node.right, X_right, y_right)\n",
        "\n",
        "    def fit(self, X, y):\n",
        "        \"\"\"\n",
        "        Fit the Decision Tree Regressor.\n",
        "            \n",
        "        Parameters\n",
        "        ----------\n",
        "        X : ndarray, shape (n_samples, n_features)\n",
        "            The input samples.\n",
        "        y : ndarray, shape (n_samples,) or (n_samples, n_outputs)\n",
        "            The target values.\n",
        "        Returns\n",
        "        -------\n",
        "        self : object\n",
        "            Returns self.\n",
        "        \"\"\"\n",
        "        X, y = check_X_y(X, y, accept_sparse=False)\n",
        "        self.is_fitted_ = True\n",
        "        \n",
        "        # Initialize the tree (root node)\n",
        "        self.tree_ = Node()                             \n",
        "        self.tree_.depth = 1                            \n",
        "        self.tree_.prediction = np.mean(y)\n",
        "        \n",
        "        # Grow the tree\n",
        "        self.grow_tree(self.tree_, X, y)\n",
        "        return self        \n",
        "    \n",
        "    def get_prediction(self, node, x):\n",
        "        \"\"\"\n",
        "        Get prediction for an object `x`\n",
        "            - Return prediction of the `node` if it is terminal\n",
        "            - Otherwise, recursively call the function to get \n",
        "            predictions of the proper child\n",
        "        \n",
        "        Parameters\n",
        "        ----------\n",
        "        node : Node() object\n",
        "            Current node of the decision tree.\n",
        "        x : ndarray, shape (n_features,)\n",
        "            Array of feature values of one object.\n",
        "        Returns\n",
        "        -------\n",
        "        y_pred : float\n",
        "            Prediction for an object x\n",
        "        \"\"\"\n",
        "        if node.is_terminal:\n",
        "            return node.prediction\n",
        "\n",
        "        y_pred = self.get_prediction((node.left if x[node.column] < node.threshold else node.right), x)\n",
        "        return y_pred\n",
        "    \n",
        "    def predict(self, X):\n",
        "        \"\"\" \n",
        "        Get prediction for each object in X\n",
        "        \n",
        "        Parameters\n",
        "        ----------\n",
        "        X : ndarray, shape (n_samples, n_features)\n",
        "            The input samples.\n",
        "        Returns\n",
        "        -------\n",
        "        y : ndarray, shape (n_samples,)\n",
        "            Returns predictions.\n",
        "        \"\"\"\n",
        "        # Check input and that `fit` had been called\n",
        "        X = check_array(X, accept_sparse=False)\n",
        "        check_is_fitted(self, 'is_fitted_')\n",
        "        \n",
        "        # Get predictions\n",
        "        y_predicted = []\n",
        "        for x in X:\n",
        "            y_curr = self.get_prediction(self.tree_, x)\n",
        "            y_predicted.append(y_curr)\n",
        "        return np.array(y_predicted)"
      ]
    },
    {
      "cell_type": "code",
      "execution_count": 30,
      "metadata": {
        "id": "753i7I6kg1Uk"
      },
      "outputs": [],
      "source": [
        "# check yourself\n",
        "from sklearn.utils.estimator_checks import check_estimator\n",
        "\n",
        "check_estimator(MyDecisionTreeRegressor())"
      ]
    },
    {
      "cell_type": "markdown",
      "metadata": {
        "id": "URi_4LF2g1Ul"
      },
      "source": [
        "### Task 4 <a id=\"task4\"></a>  (0.5 points)\n",
        "\n",
        "Load boston dataset and split it on the train ($75\\%$) and test ($25\\%$). Fit Decision Tree of depth 1 and make the following plot:\n",
        "\n",
        "- Scatter plot of the traning points (selected for split feature on the x-axis, target variable on the y-axis)\n",
        "- Fitted model "
      ]
    },
    {
      "cell_type": "code",
      "execution_count": 33,
      "metadata": {
        "id": "z1qmZU7Bg1Ul",
        "colab": {
          "base_uri": "https://localhost:8080/",
          "height": 279
        },
        "outputId": "e23a9fd3-3c8d-4182-bf31-1cfd131baf82"
      },
      "outputs": [
        {
          "output_type": "display_data",
          "data": {
            "text/plain": [
              "<Figure size 432x288 with 1 Axes>"
            ],
            "image/png": "[encoded data removed]"
          },
          "metadata": {
            "needs_background": "light"
          }
        }
      ],
      "source": [
        "from sklearn.datasets import load_boston\n",
        "from sklearn.model_selection import train_test_split\n",
        "from sklearn import tree\n",
        "\n",
        "data = load_boston()\n",
        "\n",
        "X = data.data\n",
        "Y = data.target\n",
        "X_train, X_test, y_train, y_test = train_test_split(X, Y, train_size=0.75, test_size=0.25, random_state=42)\n",
        "\n",
        "custom_tree = MyDecisionTreeRegressor(2)\n",
        "custom_tree.fit(X_train, y_train)\n",
        "\n",
        "x_train_from_column = X_train[:,custom_tree.tree_.column]\n",
        "y_train_predicted = custom_tree.predict(X_train)\n",
        "plt.scatter(x_train_from_column, y_train, label=\"price\")\n",
        "plt.scatter(x_train_from_column, y_train_predicted, label=\"predicted price\")\n",
        "plt.axvline(x=custom_tree.tree_.threshold, color='red', linestyle='--', label=\"threshold\")\n",
        "plt.xlabel(\"Selected feature\")\n",
        "plt.ylabel(\"Price\")\n",
        "plt.legend()\n",
        "plt.show()\n",
        "\n",
        "# I tried to plot a decision tree, but Node and MyDecisionTreeRegressor\n",
        "# doesn't have some necessary parameters for method plot_tree:("
      ]
    },
    {
      "cell_type": "markdown",
      "metadata": {
        "id": "eNOKtGxvg1Um"
      },
      "source": [
        "### Task 5 <a id=\"task5\"></a>  (0.5 points)\n",
        "\n",
        "Keep working with boston dataset. \n",
        "- Use `GridSearchCV` to find the best hyperparameters among [`max_depth`, `min_samples_leaf`] on 5-Fold cross-validation\n",
        "- Train the model with the best set of hyperparameters on the whole train dataset. \n",
        "- Report `MAE` on test dataset and hyperparameters of the best estimator. "
      ]
    },
    {
      "cell_type": "code",
      "execution_count": null,
      "metadata": {
        "id": "F39ke7kYg1Um",
        "colab": {
          "base_uri": "https://localhost:8080/"
        },
        "outputId": "90e403a0-361a-4759-f295-66b3c6d73ae2"
      },
      "outputs": [
        {
          "output_type": "execute_result",
          "data": {
            "text/plain": [
              "{'max_depth': 4, 'min_samples_leaf': 5}"
            ]
          },
          "metadata": {},
          "execution_count": 50
        }
      ],
      "source": [
        "from sklearn.model_selection import GridSearchCV\n",
        "\n",
        "grid = { \n",
        "    'min_samples_leaf': [1, 2, 3, 4, 5, 6, 7, 8, 9, 10, 15, 20],\n",
        "    'max_depth' : [2, 3, 4, 5, 6, 7, 8, 9, 10, 15, 20, 50],\n",
        "}\n",
        "\n",
        "rf_cv = GridSearchCV(estimator=MyDecisionTreeRegressor(), param_grid=grid, cv=5)\n",
        "rf_cv.fit(X_train, y_train)\n",
        "rf_cv.best_params_"
      ]
    },
    {
      "cell_type": "code",
      "source": [
        "from sklearn.metrics import mean_absolute_error\n",
        "\n",
        "best_model_to_test = MyDecisionTreeRegressor(max_depth=4, min_samples_leaf=5)\n",
        "best_model_to_test.fit(X_train, y_train)\n",
        "y_test_predicted = best_model_to_test.predict(X_test)\n",
        "print(mean_absolute_error(y_test, y_test_predicted))"
      ],
      "metadata": {
        "colab": {
          "base_uri": "https://localhost:8080/"
        },
        "id": "YVbo3uc7rSrG",
        "outputId": "688a0252-aae5-43f9-9385-ab34c91051fb"
      },
      "execution_count": 36,
      "outputs": [
        {
          "output_type": "stream",
          "name": "stdout",
          "text": [
            "3.1044186917190086\n"
          ]
        }
      ]
    },
    {
      "cell_type": "markdown",
      "source": [
        "В сравнении с значениями таргета ошибка на тесте не такая большая, это радует."
      ],
      "metadata": {
        "id": "NBccCTUpv0gs"
      }
    },
    {
      "cell_type": "markdown",
      "metadata": {
        "id": "sTC-SMMYg1Un"
      },
      "source": [
        "### Task 6 <a id=\"task6\"></a>  (2 points)\n",
        "\n",
        "Recall definition of bias and variance:\n",
        "$$\n",
        "\\text{Bias}^2 = \\mathbb{E}_{p(x, y)} \\left[  (f(x) - \\mathbb{E}_{\\mathbb{X}}a_{\\mathbb{X}}(x))^2 \\right] \\\\\n",
        "\\text{Variance} = \\mathbb{E}_{p(x, y)} \\left[  \\mathbb{V}_{\\mathbb{X}}( a_{\\mathbb{X}}(x))  \\right]\n",
        "$$\n",
        "\n",
        "We wil now use use the following algorithm to estimate bias and variance:\n",
        "\n",
        "1. Use bootsrap to create `n_iter` samples from the original dataset: $X_1, \\dots, X_{n_iter}$\n",
        "2. For each bootstrapped sample define out-of-bag (OOB) sample $Z_1, \\dots, Z_{n_iter}$, which contain all the observations, which did not appear in the corresponding boostraped sample\n",
        "3. Fit the model on $X_i$s and compute predictions on $Z_i$s\n",
        "4. For a given *object* $n$:\n",
        "     - bias^2: squared difference between true value $y_n$ and average prediction (average over the algorithms, for which $n$ was in OOB)\n",
        "     - variance: variance of the prediction (predictions of the algorithms, for which $n$ was in OOB)\n",
        "5. Average bias^2 and variance over all the points\n",
        "    \n",
        "**Implement `get_bias_variance` function, using the algorithm above**\n",
        "\n",
        "*Note:*  You can only use 1 loop (for bootsrap iterations). All other operations should be vectorized. "
      ]
    },
    {
      "cell_type": "code",
      "source": [
        "def get_bias_variance(estimator, x, y, n_iter):\n",
        "  \"\"\" \n",
        "    Calculate bias and variance of the `estimator`. \n",
        "    Using a given dataset and bootstrap with `n_iter` samples. \n",
        "\n",
        "    Parameters\n",
        "    ----------\n",
        "    x : ndarray, shape (n_samples, n_features)\n",
        "        The input samples.\n",
        "    y : ndarray, shape (n_samples, n_features)\n",
        "        The input samples.\n",
        "    n_iter: int\n",
        "        Number of samples in \n",
        "    Returns\n",
        "    -------\n",
        "    bias2 : float, \n",
        "        Estiamted squared bias\n",
        "    variance : float, \n",
        "        Estiamted variance\n",
        "    \"\"\"\n",
        "  original_length = len(y)\n",
        "  indexes_set = range(original_length)\n",
        "  test_predictions = np.full((original_length, n_iter),np.nan)\n",
        "  for iteration in range(n_iter):\n",
        "    train_subsampling_indexes = np.random.choice(indexes_set, original_length)\n",
        "    test_out_of_bag = np.setdiff1d(indexes_set, train_subsampling_indexes)\n",
        "    estimator.fit(x[train_subsampling_indexes,:],y[train_subsampling_indexes])\n",
        "    predicted_values = estimator.predict(x[test_out_of_bag, :])\n",
        "    np.put(test_predictions[:, iteration], test_out_of_bag, predicted_values)\n",
        "  average_var = np.nanmean(np.nanvar(test_predictions, axis = 1))\n",
        "  average_bias_squared = np.nanmean(np.square(y - np.nanmean(test_predictions, axis = 1)))\n",
        "  return average_bias_squared, average_var"
      ],
      "metadata": {
        "id": "qOI750c0hHwj"
      },
      "execution_count": null,
      "outputs": []
    },
    {
      "cell_type": "markdown",
      "source": [
        "Эта реализация немного отходит от описанной в задании, я не считаю смещение и дисперсию для каждого объекта, а беру её уже по итоговым данным. Я пробовал считать на каждой итерации, но получал оба компонента в районе сотни, что невозможно по определению, цены в целом лежат в пределе от 0 до 60, такие результаты не могут быть ответом."
      ],
      "metadata": {
        "id": "CeTwHl8GM4ZJ"
      }
    },
    {
      "cell_type": "code",
      "execution_count": 35,
      "metadata": {
        "id": "I88RdbDjg1Uo",
        "colab": {
          "base_uri": "https://localhost:8080/"
        },
        "outputId": "7581b26e-5db5-4fbc-c08a-310dec6712f5"
      },
      "outputs": [
        {
          "output_type": "execute_result",
          "data": {
            "text/plain": [
              "(18.135675756140493, 8.108684615380993)"
            ]
          },
          "metadata": {},
          "execution_count": 35
        }
      ],
      "source": [
        "# Test\n",
        "estimator = MyDecisionTreeRegressor(max_depth=8, min_samples_split=15)\n",
        "get_bias_variance(estimator, X_train, y_train, 10)"
      ]
    },
    {
      "cell_type": "markdown",
      "metadata": {
        "id": "JVy2uIjPg1Uo"
      },
      "source": [
        "### Task 7 <a id=\"task7\"></a>  (0.5 points)\n",
        "\n",
        "Compute bias and variance for the trees with different min_samples_split. Plot how bias and variance change as min_samples_split increases. \n",
        "\n",
        "Comment on what you observe, how does your result correspond to theory?"
      ]
    },
    {
      "cell_type": "code",
      "execution_count": null,
      "metadata": {
        "id": "nwFjgob1g1Uo",
        "colab": {
          "base_uri": "https://localhost:8080/",
          "height": 266
        },
        "outputId": "f4f733e0-9329-469e-c41f-9d35d0934ad3"
      },
      "outputs": [
        {
          "output_type": "display_data",
          "data": {
            "text/plain": [
              "<Figure size 432x288 with 1 Axes>"
            ],
            "image/png": "[encoded data removed]"
          },
          "metadata": {
            "needs_background": "light"
          }
        }
      ],
      "source": [
        "min_samples = np.arange(1,100)\n",
        "biases = []\n",
        "vars = []\n",
        "for i in min_samples:\n",
        "  estimator = MyDecisionTreeRegressor(max_depth=5,min_samples_split=i)\n",
        "  bias, var = get_bias_variance(estimator, X_train, y_train, 10)\n",
        "  biases.append(bias)\n",
        "  vars.append(var)\n",
        "\n",
        "plt.plot(min_samples, vars, label=\"var\")\n",
        "plt.plot(min_samples, biases, label=\"bias\")\n",
        "plt.legend()\n",
        "plt.show()"
      ]
    },
    {
      "cell_type": "markdown",
      "source": [
        "Итак, опишем ожидаемое поведение нашей модели с разным параметром min_samples_split на разных подвыборках. Увеличивая параметр min_samples_split мы не даём дереву переобучаться, соответственно смещение увеличивается, а дисперсия уменьшается, что мы и наблюдаем на графике. Уменьшение дисперсии не так заметно, график колеблется, так как, очевидно, есть элемент случайности, но она падает."
      ],
      "metadata": {
        "id": "cZ8NbEpzyaWW"
      }
    },
    {
      "cell_type": "markdown",
      "metadata": {
        "id": "vdEsXTu3g1Up"
      },
      "source": [
        "### Task 8 <a id=\"task8\"></a>  (0.5 points)\n",
        "\n",
        "Let's try to reduce variance with bagging. Use `sklearn.ensemble.BaggingRegressor` to get an ensemble and compute its bias and variance. \n",
        "\n",
        "Answer the following questions:\n",
        " - How bagging should affect bias and variance in theory?\n",
        " - How bias and variance change (if they change) compared to an individual tree in you experiments? \n",
        " - Do your results align with the theory? Why?"
      ]
    },
    {
      "cell_type": "code",
      "execution_count": null,
      "metadata": {
        "id": "-Z2h5of3g1Up",
        "colab": {
          "base_uri": "https://localhost:8080/"
        },
        "outputId": "c94fde60-2d5b-4be5-ebbf-81e6b556fe59"
      },
      "outputs": [
        {
          "output_type": "execute_result",
          "data": {
            "text/plain": [
              "(14.686940505210519, 2.4299688843320446)"
            ]
          },
          "metadata": {},
          "execution_count": 16
        }
      ],
      "source": [
        "from sklearn.ensemble import BaggingRegressor\n",
        "\n",
        "bagging = BaggingRegressor(base_estimator=MyDecisionTreeRegressor(max_depth=8, min_samples_split=15), n_estimators=10, random_state=42)\n",
        "get_bias_variance(bagging, X_train, y_train, n_iter=10)"
      ]
    },
    {
      "cell_type": "markdown",
      "source": [
        "* В теории, при использовании bagging мы опять же преследуем цель не переобучиться, поэтому дисперсия будет не самой большой, а смещение ненулевым. Понятно, что в крайности параметров переобучиться можно. Проблему высокой дисперсии используемых моделей bagging решает, а вот с bias лучше, чтобы оригинальная модель также не давала большого смещения(дерево и не даёт).\n",
        "* Видим, что смещение есть, меньше не на много, а дисперсия сильно уменьшилась - избежали переобучения, в целом оба компонента здесь получились лучше, мы всегда стремися к золотой середине, когда смещение и дисперсия малы.\n",
        "* На мой взгляд, всё получилось в соотвествии с теоретическими правилами, ансамбль смог обуздать проблемы используемых моделей, помог не уйти в переобучение, всё очень даже неплохо."
      ],
      "metadata": {
        "id": "DDpwUayk3hSA"
      }
    },
    {
      "cell_type": "markdown",
      "metadata": {
        "id": "FHEqkdZZg1Uq"
      },
      "source": [
        "# Part 2. More Ensembles"
      ]
    },
    {
      "cell_type": "markdown",
      "metadata": {
        "id": "WCopNVQ3g1Uq"
      },
      "source": [
        "In this part we will be working with [Thyroid Disease Data Set](https://archive.ics.uci.edu/ml/datasets/thyroid+disease) to solve a classification task. "
      ]
    },
    {
      "cell_type": "code",
      "execution_count": 37,
      "metadata": {
        "id": "hnnsczrVg1Uq",
        "outputId": "74e99d15-2c27-4cc4-b307-f22f59fad0eb",
        "colab": {
          "base_uri": "https://localhost:8080/",
          "height": 299
        }
      },
      "outputs": [
        {
          "output_type": "execute_result",
          "data": {
            "text/plain": [
              "    age sex on_thyroxine query_on_thyroxine on_antithyroid_medication sick  \\\n",
              "0  41.0   F            f                  f                         f    f   \n",
              "1  23.0   F            f                  f                         f    f   \n",
              "2  46.0   M            f                  f                         f    f   \n",
              "3  70.0   F            t                  f                         f    f   \n",
              "4  70.0   F            f                  f                         f    f   \n",
              "\n",
              "  pregnant thyroid_surgery I131_treatment query_hypothyroid  ...   T3  \\\n",
              "0        f               f              f                 f  ...  2.5   \n",
              "1        f               f              f                 f  ...  2.0   \n",
              "2        f               f              f                 f  ...  NaN   \n",
              "3        f               f              f                 f  ...  1.9   \n",
              "4        f               f              f                 f  ...  1.2   \n",
              "\n",
              "  TT4_measured    TT4 T4U_measured   T4U FTI_measured    FTI  TBG_measured  \\\n",
              "0            t  125.0            t  1.14            t  109.0             f   \n",
              "1            t  102.0            f   NaN            f    NaN             f   \n",
              "2            t  109.0            t  0.91            t  120.0             f   \n",
              "3            t  175.0            f   NaN            f    NaN             f   \n",
              "4            t   61.0            t  0.87            t   70.0             f   \n",
              "\n",
              "  TBG  referral_source  \n",
              "0 NaN             SVHC  \n",
              "1 NaN            other  \n",
              "2 NaN            other  \n",
              "3 NaN            other  \n",
              "4 NaN              SVI  \n",
              "\n",
              "[5 rows x 29 columns]"
            ],
            "text/html": [
              "\n",
              "  <div id=\"df-3db02c13-f115-4a90-bc88-3317bd786f8c\">\n",
              "    <div class=\"colab-df-container\">\n",
              "      <div>\n",
              "<style scoped>\n",
              "    .dataframe tbody tr th:only-of-type {\n",
              "        vertical-align: middle;\n",
              "    }\n",
              "\n",
              "    .dataframe tbody tr th {\n",
              "        vertical-align: top;\n",
              "    }\n",
              "\n",
              "    .dataframe thead th {\n",
              "        text-align: right;\n",
              "    }\n",
              "</style>\n",
              "<table border=\"1\" class=\"dataframe\">\n",
              "  <thead>\n",
              "    <tr style=\"text-align: right;\">\n",
              "      <th></th>\n",
              "      <th>age</th>\n",
              "      <th>sex</th>\n",
              "      <th>on_thyroxine</th>\n",
              "      <th>query_on_thyroxine</th>\n",
              "      <th>on_antithyroid_medication</th>\n",
              "      <th>sick</th>\n",
              "      <th>pregnant</th>\n",
              "      <th>thyroid_surgery</th>\n",
              "      <th>I131_treatment</th>\n",
              "      <th>query_hypothyroid</th>\n",
              "      <th>...</th>\n",
              "      <th>T3</th>\n",
              "      <th>TT4_measured</th>\n",
              "      <th>TT4</th>\n",
              "      <th>T4U_measured</th>\n",
              "      <th>T4U</th>\n",
              "      <th>FTI_measured</th>\n",
              "      <th>FTI</th>\n",
              "      <th>TBG_measured</th>\n",
              "      <th>TBG</th>\n",
              "      <th>referral_source</th>\n",
              "    </tr>\n",
              "  </thead>\n",
              "  <tbody>\n",
              "    <tr>\n",
              "      <th>0</th>\n",
              "      <td>41.0</td>\n",
              "      <td>F</td>\n",
              "      <td>f</td>\n",
              "      <td>f</td>\n",
              "      <td>f</td>\n",
              "      <td>f</td>\n",
              "      <td>f</td>\n",
              "      <td>f</td>\n",
              "      <td>f</td>\n",
              "      <td>f</td>\n",
              "      <td>...</td>\n",
              "      <td>2.5</td>\n",
              "      <td>t</td>\n",
              "      <td>125.0</td>\n",
              "      <td>t</td>\n",
              "      <td>1.14</td>\n",
              "      <td>t</td>\n",
              "      <td>109.0</td>\n",
              "      <td>f</td>\n",
              "      <td>NaN</td>\n",
              "      <td>SVHC</td>\n",
              "    </tr>\n",
              "    <tr>\n",
              "      <th>1</th>\n",
              "      <td>23.0</td>\n",
              "      <td>F</td>\n",
              "      <td>f</td>\n",
              "      <td>f</td>\n",
              "      <td>f</td>\n",
              "      <td>f</td>\n",
              "      <td>f</td>\n",
              "      <td>f</td>\n",
              "      <td>f</td>\n",
              "      <td>f</td>\n",
              "      <td>...</td>\n",
              "      <td>2.0</td>\n",
              "      <td>t</td>\n",
              "      <td>102.0</td>\n",
              "      <td>f</td>\n",
              "      <td>NaN</td>\n",
              "      <td>f</td>\n",
              "      <td>NaN</td>\n",
              "      <td>f</td>\n",
              "      <td>NaN</td>\n",
              "      <td>other</td>\n",
              "    </tr>\n",
              "    <tr>\n",
              "      <th>2</th>\n",
              "      <td>46.0</td>\n",
              "      <td>M</td>\n",
              "      <td>f</td>\n",
              "      <td>f</td>\n",
              "      <td>f</td>\n",
              "      <td>f</td>\n",
              "      <td>f</td>\n",
              "      <td>f</td>\n",
              "      <td>f</td>\n",
              "      <td>f</td>\n",
              "      <td>...</td>\n",
              "      <td>NaN</td>\n",
              "      <td>t</td>\n",
              "      <td>109.0</td>\n",
              "      <td>t</td>\n",
              "      <td>0.91</td>\n",
              "      <td>t</td>\n",
              "      <td>120.0</td>\n",
              "      <td>f</td>\n",
              "      <td>NaN</td>\n",
              "      <td>other</td>\n",
              "    </tr>\n",
              "    <tr>\n",
              "      <th>3</th>\n",
              "      <td>70.0</td>\n",
              "      <td>F</td>\n",
              "      <td>t</td>\n",
              "      <td>f</td>\n",
              "      <td>f</td>\n",
              "      <td>f</td>\n",
              "      <td>f</td>\n",
              "      <td>f</td>\n",
              "      <td>f</td>\n",
              "      <td>f</td>\n",
              "      <td>...</td>\n",
              "      <td>1.9</td>\n",
              "      <td>t</td>\n",
              "      <td>175.0</td>\n",
              "      <td>f</td>\n",
              "      <td>NaN</td>\n",
              "      <td>f</td>\n",
              "      <td>NaN</td>\n",
              "      <td>f</td>\n",
              "      <td>NaN</td>\n",
              "      <td>other</td>\n",
              "    </tr>\n",
              "    <tr>\n",
              "      <th>4</th>\n",
              "      <td>70.0</td>\n",
              "      <td>F</td>\n",
              "      <td>f</td>\n",
              "      <td>f</td>\n",
              "      <td>f</td>\n",
              "      <td>f</td>\n",
              "      <td>f</td>\n",
              "      <td>f</td>\n",
              "      <td>f</td>\n",
              "      <td>f</td>\n",
              "      <td>...</td>\n",
              "      <td>1.2</td>\n",
              "      <td>t</td>\n",
              "      <td>61.0</td>\n",
              "      <td>t</td>\n",
              "      <td>0.87</td>\n",
              "      <td>t</td>\n",
              "      <td>70.0</td>\n",
              "      <td>f</td>\n",
              "      <td>NaN</td>\n",
              "      <td>SVI</td>\n",
              "    </tr>\n",
              "  </tbody>\n",
              "</table>\n",
              "<p>5 rows × 29 columns</p>\n",
              "</div>\n",
              "      <button class=\"colab-df-convert\" onclick=\"convertToInteractive('df-3db02c13-f115-4a90-bc88-3317bd786f8c')\"\n",
              "              title=\"Convert this dataframe to an interactive table.\"\n",
              "              style=\"display:none;\">\n",
              "        \n",
              "  <svg xmlns=\"http://www.w3.org/2000/svg\" height=\"24px\"viewBox=\"0 0 24 24\"\n",
              "       width=\"24px\">\n",
              "    <path d=\"M0 0h24v24H0V0z\" fill=\"none\"/>\n",
              "    <path d=\"M18.56 5.44l.94 2.06.94-2.06 2.06-.94-2.06-.94-.94-2.06-.94 2.06-2.06.94zm-11 1L8.5 8.5l.94-2.06 2.06-.94-2.06-.94L8.5 2.5l-.94 2.06-2.06.94zm10 10l.94 2.06.94-2.06 2.06-.94-2.06-.94-.94-2.06-.94 2.06-2.06.94z\"/><path d=\"M17.41 7.96l-1.37-1.37c-.4-.4-.92-.59-1.43-.59-.52 0-1.04.2-1.43.59L10.3 9.45l-7.72 7.72c-.78.78-.78 2.05 0 2.83L4 21.41c.39.39.9.59 1.41.59.51 0 1.02-.2 1.41-.59l7.78-7.78 2.81-2.81c.8-.78.8-2.07 0-2.86zM5.41 20L4 18.59l7.72-7.72 1.47 1.35L5.41 20z\"/>\n",
              "  </svg>\n",
              "      </button>\n",
              "      \n",
              "  <style>\n",
              "    .colab-df-container {\n",
              "      display:flex;\n",
              "      flex-wrap:wrap;\n",
              "      gap: 12px;\n",
              "    }\n",
              "\n",
              "    .colab-df-convert {\n",
              "      background-color: #E8F0FE;\n",
              "      border: none;\n",
              "      border-radius: 50%;\n",
              "      cursor: pointer;\n",
              "      display: none;\n",
              "      fill: #1967D2;\n",
              "      height: 32px;\n",
              "      padding: 0 0 0 0;\n",
              "      width: 32px;\n",
              "    }\n",
              "\n",
              "    .colab-df-convert:hover {\n",
              "      background-color: #E2EBFA;\n",
              "      box-shadow: 0px 1px 2px rgba(60, 64, 67, 0.3), 0px 1px 3px 1px rgba(60, 64, 67, 0.15);\n",
              "      fill: #174EA6;\n",
              "    }\n",
              "\n",
              "    [theme=dark] .colab-df-convert {\n",
              "      background-color: #3B4455;\n",
              "      fill: #D2E3FC;\n",
              "    }\n",
              "\n",
              "    [theme=dark] .colab-df-convert:hover {\n",
              "      background-color: #434B5C;\n",
              "      box-shadow: 0px 1px 3px 1px rgba(0, 0, 0, 0.15);\n",
              "      filter: drop-shadow(0px 1px 2px rgba(0, 0, 0, 0.3));\n",
              "      fill: #FFFFFF;\n",
              "    }\n",
              "  </style>\n",
              "\n",
              "      <script>\n",
              "        const buttonEl =\n",
              "          document.querySelector('#df-3db02c13-f115-4a90-bc88-3317bd786f8c button.colab-df-convert');\n",
              "        buttonEl.style.display =\n",
              "          google.colab.kernel.accessAllowed ? 'block' : 'none';\n",
              "\n",
              "        async function convertToInteractive(key) {\n",
              "          const element = document.querySelector('#df-3db02c13-f115-4a90-bc88-3317bd786f8c');\n",
              "          const dataTable =\n",
              "            await google.colab.kernel.invokeFunction('convertToInteractive',\n",
              "                                                     [key], {});\n",
              "          if (!dataTable) return;\n",
              "\n",
              "          const docLinkHtml = 'Like what you see? Visit the ' +\n",
              "            '<a target=\"_blank\" href=https://colab.research.google.com/notebooks/data_table.ipynb>data table notebook</a>'\n",
              "            + ' to learn more about interactive tables.';\n",
              "          element.innerHTML = '';\n",
              "          dataTable['output_type'] = 'display_data';\n",
              "          await google.colab.output.renderOutput(dataTable, element);\n",
              "          const docLink = document.createElement('div');\n",
              "          docLink.innerHTML = docLinkHtml;\n",
              "          element.appendChild(docLink);\n",
              "        }\n",
              "      </script>\n",
              "    </div>\n",
              "  </div>\n",
              "  "
            ]
          },
          "metadata": {},
          "execution_count": 37
        }
      ],
      "source": [
        "from sklearn.preprocessing import LabelEncoder\n",
        "\n",
        "df = pd.read_csv('thyroid_disease.csv')\n",
        "\n",
        "le = LabelEncoder()\n",
        "y = le.fit_transform(df['Class'])\n",
        "X = df.drop('Class', axis=1)\n",
        "X.head(5)"
      ]
    },
    {
      "cell_type": "markdown",
      "metadata": {
        "id": "Mzd-nCmOg1Uq"
      },
      "source": [
        "### Task 1 <a id=\"task2_1\"></a> (1 point)\n",
        "\n",
        "Let's start with data preprocessing. \n",
        "\n",
        "0. Drop columns, which are not usefull (e.g. a lot of missing values). Motivate your choice. \n",
        "1. Split dataset into train and test\n",
        "2. You've probably noticed that we have both categorical and numerical columns. Here is what you need to do with them:\n",
        "    - Categorical: Fill missing values and apply one-hot-encoding\n",
        "    - Numeric: Fill missing values\n",
        "    \n",
        "Use `ColumnTranformer` to define a single transformer for all the columns in the dataset. It takes as input a list of tuples\n",
        "\n",
        "```\n",
        "ColumnTransformer([\n",
        "    ('name1', transform1, column_names1),\n",
        "    ('name2', transform2, column_names2)\n",
        "])\n",
        "```\n",
        "\n",
        "Pay attention to an argument `remainder='passthrough'`. [Here](https://scikit-learn.org/stable/modules/compose.html#column-transformer) you can find some examples of how to use column transformer. \n",
        "    \n",
        "Since we want to apply 2 transformations to categorical feature, it is very convenient to combine them into a `Pipeline`:\n",
        "\n",
        "```\n",
        "double_tranform = make_pipeline(\n",
        "                        transform_1,\n",
        "                        transform_2\n",
        "                        )\n",
        "```\n",
        "\n",
        "P.S. Choose your favourite way to fill missing values. \n",
        "\n",
        "*Hint* Categorical column usually have `dtype = 'object'`. This may help to obtain list of categorical and numerical columns on the dataset. "
      ]
    },
    {
      "cell_type": "code",
      "source": [
        "print(\"Общая информация о столбцах: число не пустых ячеек, тип:\\n\", df.info()) \n",
        "print()\n",
        "print(\"Отношение пустых строк к общему числу:\\n\", df.isna().mean()) "
      ],
      "metadata": {
        "colab": {
          "base_uri": "https://localhost:8080/"
        },
        "id": "3Spbj-Fuf8Rs",
        "outputId": "0edbc5c0-4629-431b-e0a1-92e5b130cb9c"
      },
      "execution_count": 38,
      "outputs": [
        {
          "output_type": "stream",
          "name": "stdout",
          "text": [
            "<class 'pandas.core.frame.DataFrame'>\n",
            "RangeIndex: 3772 entries, 0 to 3771\n",
            "Data columns (total 30 columns):\n",
            " #   Column                     Non-Null Count  Dtype  \n",
            "---  ------                     --------------  -----  \n",
            " 0   age                        3771 non-null   float64\n",
            " 1   sex                        3622 non-null   object \n",
            " 2   on_thyroxine               3772 non-null   object \n",
            " 3   query_on_thyroxine         3772 non-null   object \n",
            " 4   on_antithyroid_medication  3772 non-null   object \n",
            " 5   sick                       3772 non-null   object \n",
            " 6   pregnant                   3772 non-null   object \n",
            " 7   thyroid_surgery            3772 non-null   object \n",
            " 8   I131_treatment             3772 non-null   object \n",
            " 9   query_hypothyroid          3772 non-null   object \n",
            " 10  query_hyperthyroid         3772 non-null   object \n",
            " 11  lithium                    3772 non-null   object \n",
            " 12  goitre                     3772 non-null   object \n",
            " 13  tumor                      3772 non-null   object \n",
            " 14  hypopituitary              3772 non-null   object \n",
            " 15  psych                      3772 non-null   object \n",
            " 16  TSH_measured               3772 non-null   object \n",
            " 17  TSH                        3403 non-null   float64\n",
            " 18  T3_measured                3772 non-null   object \n",
            " 19  T3                         3003 non-null   float64\n",
            " 20  TT4_measured               3772 non-null   object \n",
            " 21  TT4                        3541 non-null   float64\n",
            " 22  T4U_measured               3772 non-null   object \n",
            " 23  T4U                        3385 non-null   float64\n",
            " 24  FTI_measured               3772 non-null   object \n",
            " 25  FTI                        3387 non-null   float64\n",
            " 26  TBG_measured               3772 non-null   object \n",
            " 27  TBG                        0 non-null      float64\n",
            " 28  referral_source            3772 non-null   object \n",
            " 29  Class                      3772 non-null   object \n",
            "dtypes: float64(7), object(23)\n",
            "memory usage: 884.2+ KB\n",
            "Общая информация о столбцах: число не пустых ячеек, тип:\n",
            " None\n",
            "\n",
            "Отношение пустых строк к общему числу:\n",
            " age                          0.000265\n",
            "sex                          0.039767\n",
            "on_thyroxine                 0.000000\n",
            "query_on_thyroxine           0.000000\n",
            "on_antithyroid_medication    0.000000\n",
            "sick                         0.000000\n",
            "pregnant                     0.000000\n",
            "thyroid_surgery              0.000000\n",
            "I131_treatment               0.000000\n",
            "query_hypothyroid            0.000000\n",
            "query_hyperthyroid           0.000000\n",
            "lithium                      0.000000\n",
            "goitre                       0.000000\n",
            "tumor                        0.000000\n",
            "hypopituitary                0.000000\n",
            "psych                        0.000000\n",
            "TSH_measured                 0.000000\n",
            "TSH                          0.097826\n",
            "T3_measured                  0.000000\n",
            "T3                           0.203871\n",
            "TT4_measured                 0.000000\n",
            "TT4                          0.061241\n",
            "T4U_measured                 0.000000\n",
            "T4U                          0.102598\n",
            "FTI_measured                 0.000000\n",
            "FTI                          0.102068\n",
            "TBG_measured                 0.000000\n",
            "TBG                          1.000000\n",
            "referral_source              0.000000\n",
            "Class                        0.000000\n",
            "dtype: float64\n"
          ]
        }
      ]
    },
    {
      "cell_type": "markdown",
      "source": [
        "Итак, заметим, что более половины признаков категориальные, имеется 6 неполных столбцов, то есть существуют пропущенные значения. Почти все пропущенные значения (не суммарно, а по признаку) не составляют более 20% от общего числа измерений признака, их можно дополнить, а вот столбец TBG очень сильно выбивается, он пуст, поэтому придётся его удалить."
      ],
      "metadata": {
        "id": "cSD1_au8wTAK"
      }
    },
    {
      "cell_type": "code",
      "execution_count": 39,
      "metadata": {
        "id": "iQl3Uemtg1Ur"
      },
      "outputs": [],
      "source": [
        "from sklearn.pipeline import make_pipeline\n",
        "from sklearn.compose import ColumnTransformer\n",
        "from sklearn.compose import make_column_selector\n",
        "from sklearn.preprocessing import OneHotEncoder\n",
        "from sklearn.impute import SimpleImputer\n",
        "\n",
        "y = le.fit_transform(df['Class'])\n",
        "X = df.drop('Class', axis=1)\n",
        "X.head(5)\n",
        "\n",
        "X = X.drop(['TBG'], axis=1)\n",
        "pipeline = make_pipeline(SimpleImputer(strategy='most_frequent'), OneHotEncoder())\n",
        "X_train, X_test, y_train, y_test = train_test_split(X,y,test_size=0.4, train_size=0.6, random_state = 42)\n",
        "column_transformer = ColumnTransformer(transformers=[('num', SimpleImputer(strategy='most_frequent'), make_column_selector(dtype_include = 'float')),('cat',pipeline,make_column_selector(dtype_include='object'))], remainder='passthrough')\n",
        "\n",
        "X_train = column_transformer.fit_transform(X_train)\n",
        "X_test = column_transformer.transform(X_test)"
      ]
    },
    {
      "cell_type": "markdown",
      "metadata": {
        "id": "pgT3Hpw9g1Ur"
      },
      "source": [
        "### Task 2 <a id=\"task2_2\"></a> (0.7 points)\n",
        "\n",
        "Fit and compare 5 different models (use sklearn): Gradient Boosting, Random Forest, Decision Tree, SVM, Logitics Regression\n",
        "    \n",
        "* Choose one classification metric and justify your choice .\n",
        "* Compare the models using score on cross validation. Mind the class balance when choosing the cross validation. (You can read more about different CV strategies [here](https://scikit-learn.org/stable/modules/cross_validation.html#stratified-k-fold))\n",
        "* Which model has the best performance? Which models overfit or underfit?"
      ]
    },
    {
      "cell_type": "code",
      "source": [
        "from sklearn.ensemble import GradientBoostingClassifier\n",
        "from sklearn.ensemble import RandomForestClassifier\n",
        "from sklearn.tree import DecisionTreeClassifier\n",
        "from sklearn.svm import SVC\n",
        "from sklearn.linear_model import LogisticRegression\n",
        "from sklearn.model_selection import StratifiedKFold\n",
        "from sklearn.model_selection import cross_validate\n",
        "\n",
        "# При поиске болезни нам важно пропустить как можно меньше заболевших, поэтому\n",
        "# смотрим на Recall, мы хотим не допускать false negative ситуаций,\n",
        "# модель с высоким recall это делает. \n",
        "from sklearn.metrics import recall_score\n",
        "\n",
        "# Для кросс-валидации была выбрана стратегия StratifiedKFold,\n",
        "# потому что она учитывает соотношение числа элементов класса в выборке.\n",
        "# KFold этого не учитывает.\n",
        "\n",
        "cross_val = StratifiedKFold(n_splits= 5)\n",
        "\n",
        "gradient_boosting = GradientBoostingClassifier()\n",
        "print(\"GradientBoosting recall: \", cross_validate(gradient_boosting, X_train, y_train, cv=cross_val, scoring='recall'))\n",
        "random_forest = RandomForestClassifier()\n",
        "print(\"RandomForest recall: \", cross_validate(random_forest, X_train, y_train, cv=cross_val, scoring='recall'))\n",
        "decision_tree = DecisionTreeClassifier()\n",
        "print(\"DecisionTree recall: \", cross_validate(decision_tree, X_train, y_train, cv=cross_val, scoring='recall'))\n",
        "support_vector_vachine = SVC()\n",
        "print(\"Support vector vachine recall: \", cross_validate(support_vector_vachine, X_train, y_train, cv=cross_val, scoring='recall'))\n",
        "logistic_regression = LogisticRegression()\n",
        "print(\"LogisticRegression recall: \", cross_validate(logistic_regression, X_train, y_train, cv=cross_val, scoring='recall'))"
      ],
      "metadata": {
        "colab": {
          "base_uri": "https://localhost:8080/"
        },
        "id": "8VthwmcPELzR",
        "outputId": "0c582e88-827e-4a62-e305-9dfa1e234f2e"
      },
      "execution_count": 40,
      "outputs": [
        {
          "output_type": "stream",
          "name": "stdout",
          "text": [
            "GradientBoosting recall:  {'fit_time': array([0.36473989, 0.36202669, 0.35965514, 0.36587763, 0.35338306]), 'score_time': array([0.00207353, 0.00200915, 0.00193477, 0.00194716, 0.00194979]), 'test_score': array([0.79310345, 0.96551724, 0.79310345, 0.75      , 0.85714286])}\n",
            "RandomForest recall:  {'fit_time': array([0.21399736, 0.20684123, 0.23841   , 0.20907402, 0.20675111]), 'score_time': array([0.01584268, 0.01509523, 0.01514196, 0.01509237, 0.01908469]), 'test_score': array([0.79310345, 0.86206897, 0.65517241, 0.71428571, 0.78571429])}\n",
            "DecisionTree recall:  {'fit_time': array([0.00446129, 0.00494242, 0.00499249, 0.00487089, 0.00574589]), 'score_time': array([0.00114727, 0.00109887, 0.00110221, 0.00108886, 0.00105453]), 'test_score': array([0.82758621, 1.        , 0.86206897, 0.71428571, 0.75      ])}\n",
            "Support vector vachine recall:  {'fit_time': array([0.04753542, 0.04944754, 0.0517695 , 0.04870152, 0.04682994]), 'score_time': array([0.01266146, 0.01226401, 0.0149796 , 0.01274252, 0.01192069]), 'test_score': array([0., 0., 0., 0., 0.])}\n",
            "LogisticRegression recall:  {'fit_time': array([0.07827377, 0.07599831, 0.08265686, 0.07244062, 0.06400728]), 'score_time': array([0.00156546, 0.00159001, 0.00155997, 0.00154638, 0.00158   ]), 'test_score': array([0.65517241, 0.48275862, 0.55172414, 0.53571429, 0.57142857])}\n"
          ]
        }
      ]
    },
    {
      "cell_type": "markdown",
      "metadata": {
        "id": "350u_4hCg1Us"
      },
      "source": [
        "* Для сравнения я выбрал метрику recall_score. При поиске болезни нам важно пропустить как можно меньше заболевших, поэтому смотрим на Recall, мы хотим не допускать false negative ситуаций, модель с высоким recall это делает.\n",
        "* Для кросс-валидации была выбрана стратегия StratifiedKFold,потому что она учитывает соотношение числа элементов класса в выборке. KFold этого не учитывает.\n",
        "* По результатам кросс-валидации хуже всего себя показал SVM(подозрительно, возможно, закралась какая-то ошибка), лучше справилась логистическая регрессия, хотя 0,5 для recall это маловато, далее идут случайный лес и градиентный бустинг, значения схожи, около 0,8 - хорошо, и наконец, дерево принятия решений - тоже около 0,8 в среднем, но есть и единица на одном из участков. Суть не только в величине recall, а в устойчивости модели к разным данным, мы видим, что дерево на одном участке дало единицу, а на другом выжало только 0.75, это не есть хорошо, очевидно, оно переобучилось на обучающей выборке, а нам нужен стабильный и хороший результат. А вот у случайного леса и бустинга (бустинг показал себя лучше всех, на мой взгляд) рузультат как раз стабильнее и примерно такой же по качеству. Любопотно, что это ансамбли, а не одиночные модели, заметим, что устойчивость говорит о том, что модель не переобучена, заключим, в таком случае, что они позволили на избежать сильного переобучения. Обращаясь же к логистической регрессии и SVM можно сказать, что они недообучены.\n",
        "\n"
      ]
    },
    {
      "cell_type": "markdown",
      "metadata": {
        "id": "mdC8PJdtg1Us"
      },
      "source": [
        "### Task 3 <a id=\"task2_3\"></a> (0.5 points)\n",
        "\n",
        "More Gradient Boosting. You will have to implement one of the three popular boosting implementations (xgboost, lightgbm, catboost). Select hyperparameters (number of trees, learning rate, depth) on cross-validation and compare with the methods from the previous task. \n",
        "\n",
        "To get method that you have to implement, run cell below and input your name in Russian (for example, if you input Андрей, you will see that user with this name should implement xgboost)"
      ]
    },
    {
      "cell_type": "code",
      "execution_count": null,
      "metadata": {
        "id": "IVB9NjfNg1Us",
        "colab": {
          "base_uri": "https://localhost:8080/"
        },
        "outputId": "bba12d94-620d-48ff-bcad-9d70117e6535"
      },
      "outputs": [
        {
          "output_type": "stream",
          "name": "stdout",
          "text": [
            "Георгий\n",
            "Реализуйте xgboost\n"
          ]
        }
      ],
      "source": [
        "def assign_method():\n",
        "    name = input()\n",
        "    methods = ['xgboost', 'lightgbm', 'catboost']\n",
        "    idx = sum([ord(x) for x in list(name)]) % 3\n",
        "    print('Реализуйте', methods[idx])\n",
        "    \n",
        "assign_method()"
      ]
    },
    {
      "cell_type": "code",
      "source": [
        "import xgboost as xgb\n",
        "from sklearn.model_selection import GridSearchCV\n",
        "\n",
        "#number of trees, learning rate, depth\n",
        "grid = { \n",
        "    'n_estimators': [2, 3, 4, 5, 10, 15, 20],\n",
        "    'learning_rate': [0.005, 0.05, 0.5, 5],\n",
        "    'max_depth' : [2, 4, 6, 8, 10]\n",
        "}\n",
        "\n",
        "rf_cv = GridSearchCV(estimator=xgb.XGBClassifier(objective='binary:logistic', seed=13), param_grid=grid, cv=5)\n",
        "rf_cv.fit(X_train, y_train)\n",
        "print(rf_cv.best_params_)"
      ],
      "metadata": {
        "id": "VaVE-UHp_1Wz",
        "colab": {
          "base_uri": "https://localhost:8080/"
        },
        "outputId": "90bb016c-3c6e-430e-d49c-b7afb466ab82"
      },
      "execution_count": 25,
      "outputs": [
        {
          "output_type": "stream",
          "name": "stdout",
          "text": [
            "{'learning_rate': 0.005, 'max_depth': 4, 'n_estimators': 2}\n"
          ]
        }
      ]
    },
    {
      "cell_type": "code",
      "execution_count": null,
      "metadata": {
        "id": "qUcbArCqg1Ut"
      },
      "outputs": [],
      "source": [
        "# YOUR CODE HERE"
      ]
    },
    {
      "cell_type": "markdown",
      "metadata": {
        "id": "gbtI9zmRg1Ut"
      },
      "source": [
        "```your comments here```"
      ]
    },
    {
      "cell_type": "markdown",
      "metadata": {
        "id": "sOo4242ag1Ut"
      },
      "source": [
        "### Task 4 <a id=\"task2_4\"></a> (0.7 points)\n",
        "\n",
        "Now let's train more fancy ensembles:\n",
        "\n",
        "* Bagging with decision trees as base estimators\n",
        "* Bagging with gradient boosting (with large amount of trees, >100) as base estimators\n",
        "* [Voting classifier](https://scikit-learn.org/stable/modules/generated/sklearn.ensemble.VotingClassifier.html#sklearn.ensemble.VotingClassifier) \n",
        "* [Stacking Classifier](https://scikit-learn.org/stable/modules/generated/sklearn.ensemble.StackingClassifier.html#sklearn.ensemble.StackingClassifier) with Logistic Regression as a final model\n",
        "* [Stacking Classifier](https://scikit-learn.org/stable/modules/generated/sklearn.ensemble.StackingClassifier.html#sklearn.ensemble.StackingClassifier) with Gradeint Boosting as a final model\n",
        "\n",
        "\n",
        "If not stated in the task, feel free to tune / choose hyperparameters and base models.\n",
        "\n",
        "Answer the questions:\n",
        "* Which model has the best performance?\n",
        "* Does bagging reduce overfiting of the gradient boosting with large amount of trees? \n",
        "* What is the difference between voting and staking? "
      ]
    },
    {
      "cell_type": "code",
      "execution_count": null,
      "metadata": {
        "id": "NT0yWhbcg1Ut"
      },
      "outputs": [],
      "source": [
        "# YOUR CODE HERE"
      ]
    },
    {
      "cell_type": "markdown",
      "metadata": {
        "id": "ztfcFtdVg1Uu"
      },
      "source": [
        "```your comments here```"
      ]
    },
    {
      "cell_type": "markdown",
      "metadata": {
        "id": "_2uZIAlHg1Uu"
      },
      "source": [
        "### Task 5 <a id=\"task2_5\"></a> (0.1 points)\n",
        "\n",
        "Report the test score for the best model, that you were able to train. "
      ]
    },
    {
      "cell_type": "code",
      "execution_count": null,
      "metadata": {
        "id": "izjR1-sug1Uu"
      },
      "outputs": [],
      "source": [
        "# YOUR CODE HERE"
      ]
    }
  ],
  "metadata": {
    "kernelspec": {
      "display_name": "Python 3 (ipykernel)",
      "language": "python",
      "name": "python3"
    },
    "language_info": {
      "codemirror_mode": {
        "name": "ipython",
        "version": 3
      },
      "file_extension": ".py",
      "mimetype": "text/x-python",
      "name": "python",
      "nbconvert_exporter": "python",
      "pygments_lexer": "ipython3",
      "version": "3.7.12"
    },
    "colab": {
      "provenance": []
    }
  },
  "nbformat": 4,
  "nbformat_minor": 0
}